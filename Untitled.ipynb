{
 "cells": [
  {
   "cell_type": "code",
   "execution_count": 8,
   "metadata": {},
   "outputs": [],
   "source": [
    "from mabel import Reader\n",
    "from mabel.adapters.disk import DiskReader"
   ]
  },
  {
   "cell_type": "code",
   "execution_count": 9,
   "metadata": {},
   "outputs": [
    {
     "name": "stderr",
     "output_type": "stream",
     "text": [
      "\u001b[1;36mMABEL\u001b[0m |\u001b[0;32m DEBUG    \u001b[0m| 2021-08-27T20:16:25+0100 | \u001b[0;32mReader()\u001b[0m | \u001b[0;33mreader.py\u001b[0m:\u001b[0;35m222\u001b[0m | {\"\u001b[0;34mraw_path\u001b[0m\":\"\u001b[0;32mTrue\u001b[0m\",\"\u001b[0;34mselect\u001b[0m\":\"\u001b[0;32m['\u001b[0;33m*\u001b[0;32m']\u001b[0m\",\"\u001b[0;34mdataset\u001b[0m\":\"\u001b[0;32mtests/data/formats/jsonl\u001b[0m\",\"\u001b[0;34minner_reader\u001b[0m\":\"\u001b[0;32mDiskReader\u001b[0m\",\"\u001b[0;34mrow_format\u001b[0m\":\"\u001b[0;32mjson\u001b[0m\",\"\u001b[0;34mcache_folder\u001b[0m\":\"\u001b[0;32mNone\u001b[0m\",\"\u001b[0;34mquery\u001b[0m\":\"\u001b[0;32mNone\u001b[0m\"}\n",
      "\u001b[1;36mMABEL\u001b[0m |\u001b[0;32m DEBUG    \u001b[0m| 2021-08-27T20:16:25+0100 | \u001b[0;32m_create_line_reader()\u001b[0m | \u001b[0;33mreader.py\u001b[0m:\u001b[0;35m406\u001b[0m | Reader found 1 sources to read data from in `\u001b[0;33mtests/data/formats/jsonl/\u001b[0m`. *\n",
      "\u001b[1;36mMABEL\u001b[0m |\u001b[0;32m DEBUG    \u001b[0m| 2021-08-27T20:16:25+0100 | \u001b[0;32mget_records()\u001b[0m | \u001b[0;33mbase_inner_reader.py\u001b[0m:\u001b[0;35m245\u001b[0m | Reading all rows from `\u001b[0;33mtests/data/formats/jsonl/tweets.jsonl\u001b[0m` using the text reader. *\n"
     ]
    },
    {
     "data": {
      "text/html": [
       "<table class=\"table table-sm\"><thead class=\"thead-light\"><tr><th>is_reply_to<th>\n",
       "<th>tweets_by_user<th>\n",
       "<th>following<th>\n",
       "<th>user_id<th>\n",
       "<th>followers<th>\n",
       "<th>is_quoting<th>\n",
       "<th>hash_tags<th>\n",
       "<th>user_name<th>\n",
       "<th>user_verified<th>\n",
       "<th>tweet_id<th>\n",
       "<th>is_retweeting<th>\n",
       "<th>timestamp<th>\n",
       "<th>text<th>\n",
       "</tr></thead><tbody><tr><td title='None' style='max-width:320px;overflow:hidden;text-overflow:ellipsis;white-space:nowrap;'>None<td>\n",
       "<td title='16325' style='max-width:320px;overflow:hidden;text-overflow:ellipsis;white-space:nowrap;'>16325<td>\n",
       "<td title='5001' style='max-width:320px;overflow:hidden;text-overflow:ellipsis;white-space:nowrap;'>5001<td>\n",
       "<td title='528972105' style='max-width:320px;overflow:hidden;text-overflow:ellipsis;white-space:nowrap;'>528972105<td>\n",
       "<td title='643' style='max-width:320px;overflow:hidden;text-overflow:ellipsis;white-space:nowrap;'>643<td>\n",
       "<td title='None' style='max-width:320px;overflow:hidden;text-overflow:ellipsis;white-space:nowrap;'>None<td>\n",
       "<td title='[]' style='max-width:320px;overflow:hidden;text-overflow:ellipsis;white-space:nowrap;'>[]<td>\n",
       "<td title='Niran' style='max-width:320px;overflow:hidden;text-overflow:ellipsis;white-space:nowrap;'>Niran<td>\n",
       "<td title='False' style='max-width:320px;overflow:hidden;text-overflow:ellipsis;white-space:nowrap;'>False<td>\n",
       "<td title='1346604539831611392' style='max-width:320px;overflow:hidden;text-overflow:ellipsis;white-space:nowrap;'>1346604539831611392<td>\n",
       "<td title='1346603132948676608' style='max-width:320px;overflow:hidden;text-overflow:ellipsis;white-space:nowrap;'>1346603132948676608<td>\n",
       "<td title='2021-01-05T23:48:35.655000+00:00' style='max-width:320px;overflow:hidden;text-overflow:ellipsis;white-space:nowrap;'>2021-01-05T23:48:35.655000+00:00<td>\n",
       "<td title='‘He literally wants to undermine the legitimate results of this election so he can stay out of trouble and not be branded the loser he actually is’ — Mary Trump, a former defense sec, a Georgia election official, and more are slamming Trump for his potentially criminal call https://t.co/JEtBgVvMCu' style='max-width:320px;overflow:hidden;text-overflow:ellipsis;white-space:nowrap;'>‘He literally wants to undermine the legitimate results of this election so he can stay out of trouble and not be branded the loser he actually is’ — Mary Trump, a former defense sec, a Georgia election official, and more are slamming Trump for his potentially criminal call https://t.co/JEtBgVvMCu<td>\n",
       "</tr><tr><td title='None' style='max-width:320px;overflow:hidden;text-overflow:ellipsis;white-space:nowrap;'>None<td>\n",
       "<td title='6932' style='max-width:320px;overflow:hidden;text-overflow:ellipsis;white-space:nowrap;'>6932<td>\n",
       "<td title='74' style='max-width:320px;overflow:hidden;text-overflow:ellipsis;white-space:nowrap;'>74<td>\n",
       "<td title='1184694644438904837' style='max-width:320px;overflow:hidden;text-overflow:ellipsis;white-space:nowrap;'>1184694644438904837<td>\n",
       "<td title='29' style='max-width:320px;overflow:hidden;text-overflow:ellipsis;white-space:nowrap;'>29<td>\n",
       "<td title='None' style='max-width:320px;overflow:hidden;text-overflow:ellipsis;white-space:nowrap;'>None<td>\n",
       "<td title='[]' style='max-width:320px;overflow:hidden;text-overflow:ellipsis;white-space:nowrap;'>[]<td>\n",
       "<td title='sIn.ti.miento' style='max-width:320px;overflow:hidden;text-overflow:ellipsis;white-space:nowrap;'>sIn.ti.miento<td>\n",
       "<td title='False' style='max-width:320px;overflow:hidden;text-overflow:ellipsis;white-space:nowrap;'>False<td>\n",
       "<td title='1346604539877728257' style='max-width:320px;overflow:hidden;text-overflow:ellipsis;white-space:nowrap;'>1346604539877728257<td>\n",
       "<td title='1346225011250638848' style='max-width:320px;overflow:hidden;text-overflow:ellipsis;white-space:nowrap;'>1346225011250638848<td>\n",
       "<td title='2021-01-05T23:48:35.666000+00:00' style='max-width:320px;overflow:hidden;text-overflow:ellipsis;white-space:nowrap;'>2021-01-05T23:48:35.666000+00:00<td>\n",
       "<td title='This man is leading a whole country https://t.co/TqB2EM0AbO' style='max-width:320px;overflow:hidden;text-overflow:ellipsis;white-space:nowrap;'>This man is leading a whole country https://t.co/TqB2EM0AbO<td>\n",
       "</tr><tr><td title='None' style='max-width:320px;overflow:hidden;text-overflow:ellipsis;white-space:nowrap;'>None<td>\n",
       "<td title='4967' style='max-width:320px;overflow:hidden;text-overflow:ellipsis;white-space:nowrap;'>4967<td>\n",
       "<td title='363' style='max-width:320px;overflow:hidden;text-overflow:ellipsis;white-space:nowrap;'>363<td>\n",
       "<td title='1286508262385303552' style='max-width:320px;overflow:hidden;text-overflow:ellipsis;white-space:nowrap;'>1286508262385303552<td>\n",
       "<td title='137' style='max-width:320px;overflow:hidden;text-overflow:ellipsis;white-space:nowrap;'>137<td>\n",
       "<td title='None' style='max-width:320px;overflow:hidden;text-overflow:ellipsis;white-space:nowrap;'>None<td>\n",
       "<td title='[]' style='max-width:320px;overflow:hidden;text-overflow:ellipsis;white-space:nowrap;'>[]<td>\n",
       "<td title='Jennifer Dixon' style='max-width:320px;overflow:hidden;text-overflow:ellipsis;white-space:nowrap;'>Jennifer Dixon<td>\n",
       "<td title='False' style='max-width:320px;overflow:hidden;text-overflow:ellipsis;white-space:nowrap;'>False<td>\n",
       "<td title='1346604539936346113' style='max-width:320px;overflow:hidden;text-overflow:ellipsis;white-space:nowrap;'>1346604539936346113<td>\n",
       "<td title='1346587871688290305' style='max-width:320px;overflow:hidden;text-overflow:ellipsis;white-space:nowrap;'>1346587871688290305<td>\n",
       "<td title='2021-01-05T23:48:35.680000+00:00' style='max-width:320px;overflow:hidden;text-overflow:ellipsis;white-space:nowrap;'>2021-01-05T23:48:35.680000+00:00<td>\n",
       "<td title='My husband&#39;s cousin just passed away 3 days after receiving covid vaccine.  Mind you, he has been fighting cancer for two years. Why would they give him a covid vaccine?' style='max-width:320px;overflow:hidden;text-overflow:ellipsis;white-space:nowrap;'>My husband&#39;s cousin just passed away 3 days after receiving covid vaccine.  Mind you, he has been fighting cancer for two years. Why would they give him a covid vaccine?<td>\n",
       "</tr><tr><td title='None' style='max-width:320px;overflow:hidden;text-overflow:ellipsis;white-space:nowrap;'>None<td>\n",
       "<td title='15067' style='max-width:320px;overflow:hidden;text-overflow:ellipsis;white-space:nowrap;'>15067<td>\n",
       "<td title='593' style='max-width:320px;overflow:hidden;text-overflow:ellipsis;white-space:nowrap;'>593<td>\n",
       "<td title='18663492' style='max-width:320px;overflow:hidden;text-overflow:ellipsis;white-space:nowrap;'>18663492<td>\n",
       "<td title='2372' style='max-width:320px;overflow:hidden;text-overflow:ellipsis;white-space:nowrap;'>2372<td>\n",
       "<td title='None' style='max-width:320px;overflow:hidden;text-overflow:ellipsis;white-space:nowrap;'>None<td>\n",
       "<td title='[]' style='max-width:320px;overflow:hidden;text-overflow:ellipsis;white-space:nowrap;'>[]<td>\n",
       "<td title='Brandi Nicole Payne' style='max-width:320px;overflow:hidden;text-overflow:ellipsis;white-space:nowrap;'>Brandi Nicole Payne<td>\n",
       "<td title='False' style='max-width:320px;overflow:hidden;text-overflow:ellipsis;white-space:nowrap;'>False<td>\n",
       "<td title='1346604539705778177' style='max-width:320px;overflow:hidden;text-overflow:ellipsis;white-space:nowrap;'>1346604539705778177<td>\n",
       "<td title='None' style='max-width:320px;overflow:hidden;text-overflow:ellipsis;white-space:nowrap;'>None<td>\n",
       "<td title='2021-01-05T23:48:35.625000+00:00' style='max-width:320px;overflow:hidden;text-overflow:ellipsis;white-space:nowrap;'>2021-01-05T23:48:35.625000+00:00<td>\n",
       "<td title='“A cancer treatment center in Pine Bluff that closed earlier this year because of staffing shortages is forgiving over half a million dollars in outstanding debts from nearly 200 patients.”\n",
       "\n",
       "What an incredible gift. May God bless him tenfold. 🤍\n",
       "\n",
       "https://t.co/BMgOs1KTeg' style='max-width:320px;overflow:hidden;text-overflow:ellipsis;white-space:nowrap;'>“A cancer treatment center in Pine Bluff that closed earlier this year because of staffing shortages is forgiving over half a million dollars in outstanding debts from nearly 200 patients.”\n",
       "\n",
       "What an incredible gift. May God bless him tenfold. 🤍\n",
       "\n",
       "https://t.co/BMgOs1KTeg<td>\n",
       "</tr><tr><td title='None' style='max-width:320px;overflow:hidden;text-overflow:ellipsis;white-space:nowrap;'>None<td>\n",
       "<td title='5372' style='max-width:320px;overflow:hidden;text-overflow:ellipsis;white-space:nowrap;'>5372<td>\n",
       "<td title='279' style='max-width:320px;overflow:hidden;text-overflow:ellipsis;white-space:nowrap;'>279<td>\n",
       "<td title='1223654174321266690' style='max-width:320px;overflow:hidden;text-overflow:ellipsis;white-space:nowrap;'>1223654174321266690<td>\n",
       "<td title='50' style='max-width:320px;overflow:hidden;text-overflow:ellipsis;white-space:nowrap;'>50<td>\n",
       "<td title='None' style='max-width:320px;overflow:hidden;text-overflow:ellipsis;white-space:nowrap;'>None<td>\n",
       "<td title='['JoshHawleyIsALiar']' style='max-width:320px;overflow:hidden;text-overflow:ellipsis;white-space:nowrap;'>['JoshHawleyIsALiar']<td>\n",
       "<td title='@coco3311' style='max-width:320px;overflow:hidden;text-overflow:ellipsis;white-space:nowrap;'>@coco3311<td>\n",
       "<td title='False' style='max-width:320px;overflow:hidden;text-overflow:ellipsis;white-space:nowrap;'>False<td>\n",
       "<td title='1346604539886116864' style='max-width:320px;overflow:hidden;text-overflow:ellipsis;white-space:nowrap;'>1346604539886116864<td>\n",
       "<td title='1346603610839207936' style='max-width:320px;overflow:hidden;text-overflow:ellipsis;white-space:nowrap;'>1346603610839207936<td>\n",
       "<td title='2021-01-05T23:48:35.668000+00:00' style='max-width:320px;overflow:hidden;text-overflow:ellipsis;white-space:nowrap;'>2021-01-05T23:48:35.668000+00:00<td>\n",
       "<td title='NEW VIDEO: #JoshHawleyIsALiar \n",
       "\n",
       "Watch this short video and expose this liar who used his wife and child to create a fake &quot;victim&quot; story. Just disgusting. https://t.co/9NzBaLBsT3' style='max-width:320px;overflow:hidden;text-overflow:ellipsis;white-space:nowrap;'>NEW VIDEO: #JoshHawleyIsALiar \n",
       "\n",
       "Watch this short video and expose this liar who used his wife and child to create a fake &quot;victim&quot; story. Just disgusting. https://t.co/9NzBaLBsT3<td>\n",
       "</tr></tbody></table>"
      ],
      "text/plain": [
       "<IPython.core.display.HTML object>"
      ]
     },
     "metadata": {},
     "output_type": "display_data"
    },
    {
     "data": {
      "text/plain": []
     },
     "execution_count": 9,
     "metadata": {},
     "output_type": "execute_result"
    }
   ],
   "source": [
    "r = Reader(\n",
    "    inner_reader=DiskReader,\n",
    "    dataset=\"tests/data/formats/jsonl\",\n",
    "    raw_path=True)\n",
    "\n",
    "r"
   ]
  },
  {
   "cell_type": "code",
   "execution_count": null,
   "metadata": {},
   "outputs": [],
   "source": []
  }
 ],
 "metadata": {
  "kernelspec": {
   "display_name": "Python 3",
   "language": "python",
   "name": "python3"
  },
  "language_info": {
   "codemirror_mode": {
    "name": "ipython",
    "version": 3
   },
   "file_extension": ".py",
   "mimetype": "text/x-python",
   "name": "python",
   "nbconvert_exporter": "python",
   "pygments_lexer": "ipython3",
   "version": "3.8.5"
  }
 },
 "nbformat": 4,
 "nbformat_minor": 4
}
