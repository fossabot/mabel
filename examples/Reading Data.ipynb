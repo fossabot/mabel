{
 "cells": [
  {
   "cell_type": "code",
   "execution_count": null,
   "metadata": {},
   "outputs": [],
   "source": [
    "pip uninstall mabelbeta -y"
   ]
  },
  {
   "cell_type": "code",
   "execution_count": 11,
   "metadata": {},
   "outputs": [],
   "source": [
    "quit()"
   ]
  },
  {
   "cell_type": "code",
   "execution_count": null,
   "metadata": {},
   "outputs": [],
   "source": [
    "import os\n",
    "import sys\n",
    "\n",
    "sys.path.insert(1, os.path.join(sys.path[0], \"..\"))\n",
    "import mabel\n",
    "mabel.__version__"
   ]
  },
  {
   "cell_type": "code",
   "execution_count": 2,
   "metadata": {},
   "outputs": [],
   "source": [
    "from mabel.data import Reader, STORAGE_CLASS, DictSet\n",
    "from mabel.adapters.disk import DiskReader"
   ]
  },
  {
   "cell_type": "code",
   "execution_count": 3,
   "metadata": {},
   "outputs": [],
   "source": [
    "tweets = Reader(\n",
    "    inner_reader=DiskReader,\n",
    "    dataset=\"data/tweets\",\n",
    "    raw_path=True,\n",
    "    persistence=STORAGE_CLASS.MEMORY)"
   ]
  },
  {
   "cell_type": "code",
   "execution_count": 4,
   "metadata": {},
   "outputs": [
    {
     "data": {
      "text/plain": [
       "100000"
      ]
     },
     "execution_count": 4,
     "metadata": {},
     "output_type": "execute_result"
    }
   ],
   "source": [
    "tweets.count()"
   ]
  },
  {
   "cell_type": "code",
   "execution_count": 5,
   "metadata": {},
   "outputs": [
    {
     "data": {
      "text/plain": [
       "100000"
      ]
     },
     "execution_count": 5,
     "metadata": {},
     "output_type": "execute_result"
    }
   ],
   "source": [
    "tweets.distinct().count()"
   ]
  },
  {
   "cell_type": "code",
   "execution_count": 6,
   "metadata": {},
   "outputs": [
    {
     "data": {
      "text/plain": [
       "['tweet_id',\n",
       " 'text',\n",
       " 'timestamp',\n",
       " 'user_id',\n",
       " 'user_verified',\n",
       " 'user_name',\n",
       " 'hash_tags',\n",
       " 'followers',\n",
       " 'following',\n",
       " 'tweets_by_user',\n",
       " 'is_quoting',\n",
       " 'is_reply_to',\n",
       " 'is_retweeting']"
      ]
     },
     "execution_count": 6,
     "metadata": {},
     "output_type": "execute_result"
    }
   ],
   "source": [
    "tweets.keys()"
   ]
  },
  {
   "cell_type": "code",
   "execution_count": 7,
   "metadata": {},
   "outputs": [
    {
     "data": {
      "text/html": [
       "<table class=\"table table-sm\"><thead class=\"thead-light\"><tr><th>user_id<th>\n",
       "<th>hash_tags<th>\n",
       "<th>is_quoting<th>\n",
       "<th>user_name<th>\n",
       "<th>text<th>\n",
       "<th>tweets_by_user<th>\n",
       "<th>is_reply_to<th>\n",
       "<th>following<th>\n",
       "<th>followers<th>\n",
       "<th>is_retweeting<th>\n",
       "<th>tweet_id<th>\n",
       "<th>user_verified<th>\n",
       "<th>timestamp<th>\n",
       "</tr></thead><tbody><tr><td title='528972105' style='max-width:320px;overflow:hidden;text-overflow:ellipsis;white-space:nowrap;'>528972105<td>\n",
       "<td title='[]' style='max-width:320px;overflow:hidden;text-overflow:ellipsis;white-space:nowrap;'>[]<td>\n",
       "<td title='None' style='max-width:320px;overflow:hidden;text-overflow:ellipsis;white-space:nowrap;'>None<td>\n",
       "<td title='Niran' style='max-width:320px;overflow:hidden;text-overflow:ellipsis;white-space:nowrap;'>Niran<td>\n",
       "<td title='‘He literally wants to undermine the legitimate results of this election so he can stay out of trouble and not be branded the loser he actually is’ — Mary Trump, a former defense sec, a Georgia election official, and more are slamming Trump for his potentially criminal call https://t.co/JEtBgVvMCu' style='max-width:320px;overflow:hidden;text-overflow:ellipsis;white-space:nowrap;'>‘He literally wants to undermine the legitimate results of this election so he can stay out of trouble and not be branded the loser he actually is’ — Mary Trump, a former defense sec, a Georgia election official, and more are slamming Trump for his potentially criminal call https://t.co/JEtBgVvMCu<td>\n",
       "<td title='16325' style='max-width:320px;overflow:hidden;text-overflow:ellipsis;white-space:nowrap;'>16325<td>\n",
       "<td title='None' style='max-width:320px;overflow:hidden;text-overflow:ellipsis;white-space:nowrap;'>None<td>\n",
       "<td title='5001' style='max-width:320px;overflow:hidden;text-overflow:ellipsis;white-space:nowrap;'>5001<td>\n",
       "<td title='643' style='max-width:320px;overflow:hidden;text-overflow:ellipsis;white-space:nowrap;'>643<td>\n",
       "<td title='1346603132948676608' style='max-width:320px;overflow:hidden;text-overflow:ellipsis;white-space:nowrap;'>1346603132948676608<td>\n",
       "<td title='1346604539831611392' style='max-width:320px;overflow:hidden;text-overflow:ellipsis;white-space:nowrap;'>1346604539831611392<td>\n",
       "<td title='False' style='max-width:320px;overflow:hidden;text-overflow:ellipsis;white-space:nowrap;'>False<td>\n",
       "<td title='2021-01-05T23:48:35.655000+00:00' style='max-width:320px;overflow:hidden;text-overflow:ellipsis;white-space:nowrap;'>2021-01-05T23:48:35.655000+00:00<td>\n",
       "</tr><tr><td title='1184694644438904837' style='max-width:320px;overflow:hidden;text-overflow:ellipsis;white-space:nowrap;'>1184694644438904837<td>\n",
       "<td title='[]' style='max-width:320px;overflow:hidden;text-overflow:ellipsis;white-space:nowrap;'>[]<td>\n",
       "<td title='None' style='max-width:320px;overflow:hidden;text-overflow:ellipsis;white-space:nowrap;'>None<td>\n",
       "<td title='sIn.ti.miento' style='max-width:320px;overflow:hidden;text-overflow:ellipsis;white-space:nowrap;'>sIn.ti.miento<td>\n",
       "<td title='This man is leading a whole country https://t.co/TqB2EM0AbO' style='max-width:320px;overflow:hidden;text-overflow:ellipsis;white-space:nowrap;'>This man is leading a whole country https://t.co/TqB2EM0AbO<td>\n",
       "<td title='6932' style='max-width:320px;overflow:hidden;text-overflow:ellipsis;white-space:nowrap;'>6932<td>\n",
       "<td title='None' style='max-width:320px;overflow:hidden;text-overflow:ellipsis;white-space:nowrap;'>None<td>\n",
       "<td title='74' style='max-width:320px;overflow:hidden;text-overflow:ellipsis;white-space:nowrap;'>74<td>\n",
       "<td title='29' style='max-width:320px;overflow:hidden;text-overflow:ellipsis;white-space:nowrap;'>29<td>\n",
       "<td title='1346225011250638848' style='max-width:320px;overflow:hidden;text-overflow:ellipsis;white-space:nowrap;'>1346225011250638848<td>\n",
       "<td title='1346604539877728257' style='max-width:320px;overflow:hidden;text-overflow:ellipsis;white-space:nowrap;'>1346604539877728257<td>\n",
       "<td title='False' style='max-width:320px;overflow:hidden;text-overflow:ellipsis;white-space:nowrap;'>False<td>\n",
       "<td title='2021-01-05T23:48:35.666000+00:00' style='max-width:320px;overflow:hidden;text-overflow:ellipsis;white-space:nowrap;'>2021-01-05T23:48:35.666000+00:00<td>\n",
       "</tr><tr><td title='1286508262385303552' style='max-width:320px;overflow:hidden;text-overflow:ellipsis;white-space:nowrap;'>1286508262385303552<td>\n",
       "<td title='[]' style='max-width:320px;overflow:hidden;text-overflow:ellipsis;white-space:nowrap;'>[]<td>\n",
       "<td title='None' style='max-width:320px;overflow:hidden;text-overflow:ellipsis;white-space:nowrap;'>None<td>\n",
       "<td title='Jennifer Dixon' style='max-width:320px;overflow:hidden;text-overflow:ellipsis;white-space:nowrap;'>Jennifer Dixon<td>\n",
       "<td title='My husband&#39;s cousin just passed away 3 days after receiving covid vaccine.  Mind you, he has been fighting cancer for two years. Why would they give him a covid vaccine?' style='max-width:320px;overflow:hidden;text-overflow:ellipsis;white-space:nowrap;'>My husband&#39;s cousin just passed away 3 days after receiving covid vaccine.  Mind you, he has been fighting cancer for two years. Why would they give him a covid vaccine?<td>\n",
       "<td title='4967' style='max-width:320px;overflow:hidden;text-overflow:ellipsis;white-space:nowrap;'>4967<td>\n",
       "<td title='None' style='max-width:320px;overflow:hidden;text-overflow:ellipsis;white-space:nowrap;'>None<td>\n",
       "<td title='363' style='max-width:320px;overflow:hidden;text-overflow:ellipsis;white-space:nowrap;'>363<td>\n",
       "<td title='137' style='max-width:320px;overflow:hidden;text-overflow:ellipsis;white-space:nowrap;'>137<td>\n",
       "<td title='1346587871688290305' style='max-width:320px;overflow:hidden;text-overflow:ellipsis;white-space:nowrap;'>1346587871688290305<td>\n",
       "<td title='1346604539936346113' style='max-width:320px;overflow:hidden;text-overflow:ellipsis;white-space:nowrap;'>1346604539936346113<td>\n",
       "<td title='False' style='max-width:320px;overflow:hidden;text-overflow:ellipsis;white-space:nowrap;'>False<td>\n",
       "<td title='2021-01-05T23:48:35.680000+00:00' style='max-width:320px;overflow:hidden;text-overflow:ellipsis;white-space:nowrap;'>2021-01-05T23:48:35.680000+00:00<td>\n",
       "</tr><tr><td title='18663492' style='max-width:320px;overflow:hidden;text-overflow:ellipsis;white-space:nowrap;'>18663492<td>\n",
       "<td title='[]' style='max-width:320px;overflow:hidden;text-overflow:ellipsis;white-space:nowrap;'>[]<td>\n",
       "<td title='None' style='max-width:320px;overflow:hidden;text-overflow:ellipsis;white-space:nowrap;'>None<td>\n",
       "<td title='Brandi Nicole Payne' style='max-width:320px;overflow:hidden;text-overflow:ellipsis;white-space:nowrap;'>Brandi Nicole Payne<td>\n",
       "<td title='“A cancer treatment center in Pine Bluff that closed earlier this year because of staffing shortages is forgiving over half a million dollars in outstanding debts from nearly 200 patients.”\n",
       "\n",
       "What an incredible gift. May God bless him tenfold. 🤍\n",
       "\n",
       "https://t.co/BMgOs1KTeg' style='max-width:320px;overflow:hidden;text-overflow:ellipsis;white-space:nowrap;'>“A cancer treatment center in Pine Bluff that closed earlier this year because of staffing shortages is forgiving over half a million dollars in outstanding debts from nearly 200 patients.”\n",
       "\n",
       "What an incredible gift. May God bless him tenfold. 🤍\n",
       "\n",
       "https://t.co/BMgOs1KTeg<td>\n",
       "<td title='15067' style='max-width:320px;overflow:hidden;text-overflow:ellipsis;white-space:nowrap;'>15067<td>\n",
       "<td title='None' style='max-width:320px;overflow:hidden;text-overflow:ellipsis;white-space:nowrap;'>None<td>\n",
       "<td title='593' style='max-width:320px;overflow:hidden;text-overflow:ellipsis;white-space:nowrap;'>593<td>\n",
       "<td title='2372' style='max-width:320px;overflow:hidden;text-overflow:ellipsis;white-space:nowrap;'>2372<td>\n",
       "<td title='None' style='max-width:320px;overflow:hidden;text-overflow:ellipsis;white-space:nowrap;'>None<td>\n",
       "<td title='1346604539705778177' style='max-width:320px;overflow:hidden;text-overflow:ellipsis;white-space:nowrap;'>1346604539705778177<td>\n",
       "<td title='False' style='max-width:320px;overflow:hidden;text-overflow:ellipsis;white-space:nowrap;'>False<td>\n",
       "<td title='2021-01-05T23:48:35.625000+00:00' style='max-width:320px;overflow:hidden;text-overflow:ellipsis;white-space:nowrap;'>2021-01-05T23:48:35.625000+00:00<td>\n",
       "</tr><tr><td title='1223654174321266690' style='max-width:320px;overflow:hidden;text-overflow:ellipsis;white-space:nowrap;'>1223654174321266690<td>\n",
       "<td title='['JoshHawleyIsALiar']' style='max-width:320px;overflow:hidden;text-overflow:ellipsis;white-space:nowrap;'>['JoshHawleyIsALiar']<td>\n",
       "<td title='None' style='max-width:320px;overflow:hidden;text-overflow:ellipsis;white-space:nowrap;'>None<td>\n",
       "<td title='@coco3311' style='max-width:320px;overflow:hidden;text-overflow:ellipsis;white-space:nowrap;'>@coco3311<td>\n",
       "<td title='NEW VIDEO: #JoshHawleyIsALiar \n",
       "\n",
       "Watch this short video and expose this liar who used his wife and child to create a fake &quot;victim&quot; story. Just disgusting. https://t.co/9NzBaLBsT3' style='max-width:320px;overflow:hidden;text-overflow:ellipsis;white-space:nowrap;'>NEW VIDEO: #JoshHawleyIsALiar \n",
       "\n",
       "Watch this short video and expose this liar who used his wife and child to create a fake &quot;victim&quot; story. Just disgusting. https://t.co/9NzBaLBsT3<td>\n",
       "<td title='5372' style='max-width:320px;overflow:hidden;text-overflow:ellipsis;white-space:nowrap;'>5372<td>\n",
       "<td title='None' style='max-width:320px;overflow:hidden;text-overflow:ellipsis;white-space:nowrap;'>None<td>\n",
       "<td title='279' style='max-width:320px;overflow:hidden;text-overflow:ellipsis;white-space:nowrap;'>279<td>\n",
       "<td title='50' style='max-width:320px;overflow:hidden;text-overflow:ellipsis;white-space:nowrap;'>50<td>\n",
       "<td title='1346603610839207936' style='max-width:320px;overflow:hidden;text-overflow:ellipsis;white-space:nowrap;'>1346603610839207936<td>\n",
       "<td title='1346604539886116864' style='max-width:320px;overflow:hidden;text-overflow:ellipsis;white-space:nowrap;'>1346604539886116864<td>\n",
       "<td title='False' style='max-width:320px;overflow:hidden;text-overflow:ellipsis;white-space:nowrap;'>False<td>\n",
       "<td title='2021-01-05T23:48:35.668000+00:00' style='max-width:320px;overflow:hidden;text-overflow:ellipsis;white-space:nowrap;'>2021-01-05T23:48:35.668000+00:00<td>\n",
       "</tr></tbody></table>\n",
       "<p>top 4 rows x 13 columns</p>\n",
       "NOTE: the displayed records have been spent"
      ],
      "text/plain": [
       "<IPython.core.display.HTML object>"
      ]
     },
     "metadata": {},
     "output_type": "display_data"
    },
    {
     "data": {
      "text/plain": []
     },
     "execution_count": 7,
     "metadata": {},
     "output_type": "execute_result"
    }
   ],
   "source": [
    "tweets"
   ]
  },
  {
   "cell_type": "code",
   "execution_count": 12,
   "metadata": {},
   "outputs": [
    {
     "data": {
      "text/html": [
       "<table class=\"table table-sm\"><thead class=\"thead-light\"><tr><th>COUNT(*)<th>\n",
       "<th>user_name<th>\n",
       "</tr></thead><tbody><tr><td title='1' style='max-width:320px;overflow:hidden;text-overflow:ellipsis;white-space:nowrap;'>1<td>\n",
       "<td title='Patrick 🇨🇦' style='max-width:320px;overflow:hidden;text-overflow:ellipsis;white-space:nowrap;'>Patrick 🇨🇦<td>\n",
       "</tr><tr><td title='1' style='max-width:320px;overflow:hidden;text-overflow:ellipsis;white-space:nowrap;'>1<td>\n",
       "<td title='💕 Kara 💕' style='max-width:320px;overflow:hidden;text-overflow:ellipsis;white-space:nowrap;'>💕 Kara 💕<td>\n",
       "</tr><tr><td title='1' style='max-width:320px;overflow:hidden;text-overflow:ellipsis;white-space:nowrap;'>1<td>\n",
       "<td title='## 🍊mimi⁷' style='max-width:320px;overflow:hidden;text-overflow:ellipsis;white-space:nowrap;'>## 🍊mimi⁷<td>\n",
       "</tr><tr><td title='1' style='max-width:320px;overflow:hidden;text-overflow:ellipsis;white-space:nowrap;'>1<td>\n",
       "<td title='SamKalensky' style='max-width:320px;overflow:hidden;text-overflow:ellipsis;white-space:nowrap;'>SamKalensky<td>\n",
       "</tr><tr><td title='1' style='max-width:320px;overflow:hidden;text-overflow:ellipsis;white-space:nowrap;'>1<td>\n",
       "<td title='¹| STREAM SOLO📌' style='max-width:320px;overflow:hidden;text-overflow:ellipsis;white-space:nowrap;'>¹| STREAM SOLO📌<td>\n",
       "</tr></tbody></table>\n",
       "<p>top 4 rows x 2 columns</p>\n",
       "NOTE: the displayed records have been spent"
      ],
      "text/plain": [
       "<IPython.core.display.HTML object>"
      ]
     },
     "metadata": {},
     "output_type": "display_data"
    },
    {
     "data": {
      "text/plain": []
     },
     "execution_count": 12,
     "metadata": {},
     "output_type": "execute_result"
    }
   ],
   "source": [
    "grouped = DictSet(tweets.group_by(\"user_name\").count())\n",
    "grouped"
   ]
  },
  {
   "cell_type": "code",
   "execution_count": 13,
   "metadata": {},
   "outputs": [
    {
     "data": {
      "text/html": [
       "<table class=\"table table-sm\"><thead class=\"thead-light\"><tr><th>COUNT(*)<th>\n",
       "<th>user_name<th>\n",
       "</tr></thead><tbody><tr><td title='19' style='max-width:320px;overflow:hidden;text-overflow:ellipsis;white-space:nowrap;'>19<td>\n",
       "<td title='Laura' style='max-width:320px;overflow:hidden;text-overflow:ellipsis;white-space:nowrap;'>Laura<td>\n",
       "</tr><tr><td title='9' style='max-width:320px;overflow:hidden;text-overflow:ellipsis;white-space:nowrap;'>9<td>\n",
       "<td title='JC' style='max-width:320px;overflow:hidden;text-overflow:ellipsis;white-space:nowrap;'>JC<td>\n",
       "</tr><tr><td title='6' style='max-width:320px;overflow:hidden;text-overflow:ellipsis;white-space:nowrap;'>6<td>\n",
       "<td title='RJ' style='max-width:320px;overflow:hidden;text-overflow:ellipsis;white-space:nowrap;'>RJ<td>\n",
       "</tr><tr><td title='9' style='max-width:320px;overflow:hidden;text-overflow:ellipsis;white-space:nowrap;'>9<td>\n",
       "<td title='Stephanie' style='max-width:320px;overflow:hidden;text-overflow:ellipsis;white-space:nowrap;'>Stephanie<td>\n",
       "</tr><tr><td title='11' style='max-width:320px;overflow:hidden;text-overflow:ellipsis;white-space:nowrap;'>11<td>\n",
       "<td title='laura' style='max-width:320px;overflow:hidden;text-overflow:ellipsis;white-space:nowrap;'>laura<td>\n",
       "</tr></tbody></table>\n",
       "<p>top 4 rows x 2 columns</p>\n",
       "NOTE: the displayed records have been spent"
      ],
      "text/plain": [
       "<IPython.core.display.HTML object>"
      ]
     },
     "metadata": {},
     "output_type": "display_data"
    },
    {
     "data": {
      "text/plain": []
     },
     "execution_count": 13,
     "metadata": {},
     "output_type": "execute_result"
    }
   ],
   "source": [
    "grouped.filter(lambda r: r[\"COUNT(*)\"] > 5)"
   ]
  },
  {
   "cell_type": "code",
   "execution_count": 14,
   "metadata": {},
   "outputs": [
    {
     "data": {
      "text/html": [
       "<table class=\"table table-sm\"><thead class=\"thead-light\"><tr><th>COUNT(*)<th>\n",
       "<th>user_name<th>\n",
       "</tr></thead><tbody><tr><td title='9' style='max-width:320px;overflow:hidden;text-overflow:ellipsis;white-space:nowrap;'>9<td>\n",
       "<td title='ky' style='max-width:320px;overflow:hidden;text-overflow:ellipsis;white-space:nowrap;'>ky<td>\n",
       "</tr><tr><td title='6' style='max-width:320px;overflow:hidden;text-overflow:ellipsis;white-space:nowrap;'>6<td>\n",
       "<td title='Chad' style='max-width:320px;overflow:hidden;text-overflow:ellipsis;white-space:nowrap;'>Chad<td>\n",
       "</tr><tr><td title='12' style='max-width:320px;overflow:hidden;text-overflow:ellipsis;white-space:nowrap;'>12<td>\n",
       "<td title='Alexis' style='max-width:320px;overflow:hidden;text-overflow:ellipsis;white-space:nowrap;'>Alexis<td>\n",
       "</tr><tr><td title='7' style='max-width:320px;overflow:hidden;text-overflow:ellipsis;white-space:nowrap;'>7<td>\n",
       "<td title='alyssa' style='max-width:320px;overflow:hidden;text-overflow:ellipsis;white-space:nowrap;'>alyssa<td>\n",
       "</tr><tr><td title='6' style='max-width:320px;overflow:hidden;text-overflow:ellipsis;white-space:nowrap;'>6<td>\n",
       "<td title='ghost' style='max-width:320px;overflow:hidden;text-overflow:ellipsis;white-space:nowrap;'>ghost<td>\n",
       "</tr></tbody></table>\n",
       "<p>top 4 rows x 2 columns</p>\n",
       "NOTE: the displayed records have been spent"
      ],
      "text/plain": [
       "<IPython.core.display.HTML object>"
      ]
     },
     "metadata": {},
     "output_type": "display_data"
    },
    {
     "data": {
      "text/plain": []
     },
     "execution_count": 14,
     "metadata": {},
     "output_type": "execute_result"
    }
   ],
   "source": [
    "grouped.filter((\"COUNT(*)\", \">\", 5))"
   ]
  },
  {
   "cell_type": "code",
   "execution_count": 15,
   "metadata": {},
   "outputs": [
    {
     "ename": "InvalidExpression",
     "evalue": "Operator expected, but got `(`",
     "output_type": "error",
     "traceback": [
      "\u001b[0;31m---------------------------------------------------------------------------\u001b[0m",
      "\u001b[0;31mInvalidExpression\u001b[0m                         Traceback (most recent call last)",
      "\u001b[0;32m<ipython-input-15-fb874632c8f8>\u001b[0m in \u001b[0;36m<module>\u001b[0;34m\u001b[0m\n\u001b[0;32m----> 1\u001b[0;31m \u001b[0mgrouped\u001b[0m\u001b[0;34m.\u001b[0m\u001b[0mfilter\u001b[0m\u001b[0;34m(\u001b[0m\u001b[0;34m\"COUNT(*) > 5\"\u001b[0m\u001b[0;34m)\u001b[0m\u001b[0;34m\u001b[0m\u001b[0;34m\u001b[0m\u001b[0m\n\u001b[0m",
      "\u001b[0;32m/mnt/c/Users/justi/Nextcloud/mabel/mabel/examples/../mabel/data/internals/dictset.py\u001b[0m in \u001b[0;36mfilter\u001b[0;34m(self, filters)\u001b[0m\n\u001b[1;32m    406\u001b[0m                         \u001b[0;32myield\u001b[0m \u001b[0mrecord\u001b[0m\u001b[0;34m\u001b[0m\u001b[0;34m\u001b[0m\u001b[0m\n\u001b[1;32m    407\u001b[0m \u001b[0;34m\u001b[0m\u001b[0m\n\u001b[0;32m--> 408\u001b[0;31m             \u001b[0mq\u001b[0m \u001b[0;34m=\u001b[0m \u001b[0mExpression\u001b[0m\u001b[0;34m(\u001b[0m\u001b[0mfilters\u001b[0m\u001b[0;34m)\u001b[0m\u001b[0;34m\u001b[0m\u001b[0;34m\u001b[0m\u001b[0m\n\u001b[0m\u001b[1;32m    409\u001b[0m             \u001b[0;32mreturn\u001b[0m \u001b[0mDictSet\u001b[0m\u001b[0;34m(\u001b[0m\u001b[0minner_filter_where\u001b[0m\u001b[0;34m(\u001b[0m\u001b[0miter\u001b[0m\u001b[0;34m(\u001b[0m\u001b[0mself\u001b[0m\u001b[0;34m.\u001b[0m\u001b[0m_iterator\u001b[0m\u001b[0;34m)\u001b[0m\u001b[0;34m)\u001b[0m\u001b[0;34m,\u001b[0m \u001b[0mstorage_class\u001b[0m\u001b[0;34m=\u001b[0m\u001b[0mself\u001b[0m\u001b[0;34m.\u001b[0m\u001b[0mstorage_class\u001b[0m\u001b[0;34m)\u001b[0m\u001b[0;34m\u001b[0m\u001b[0;34m\u001b[0m\u001b[0m\n\u001b[1;32m    410\u001b[0m \u001b[0;34m\u001b[0m\u001b[0m\n",
      "\u001b[0;32m/mnt/c/Users/justi/Nextcloud/mabel/mabel/examples/../mabel/data/internals/expression.py\u001b[0m in \u001b[0;36m__init__\u001b[0;34m(self, exp)\u001b[0m\n\u001b[1;32m    133\u001b[0m         \u001b[0mself\u001b[0m\u001b[0;34m.\u001b[0m\u001b[0mtokenizer\u001b[0m \u001b[0;34m=\u001b[0m \u001b[0mExpressionTokenizer\u001b[0m\u001b[0;34m(\u001b[0m\u001b[0mexp\u001b[0m\u001b[0;34m)\u001b[0m\u001b[0;34m\u001b[0m\u001b[0;34m\u001b[0m\u001b[0m\n\u001b[1;32m    134\u001b[0m         \u001b[0mself\u001b[0m\u001b[0;34m.\u001b[0m\u001b[0mtokenizer\u001b[0m\u001b[0;34m.\u001b[0m\u001b[0mtokenize\u001b[0m\u001b[0;34m(\u001b[0m\u001b[0;34m)\u001b[0m\u001b[0;34m\u001b[0m\u001b[0;34m\u001b[0m\u001b[0m\n\u001b[0;32m--> 135\u001b[0;31m         \u001b[0mself\u001b[0m\u001b[0;34m.\u001b[0m\u001b[0mparse\u001b[0m\u001b[0;34m(\u001b[0m\u001b[0;34m)\u001b[0m\u001b[0;34m\u001b[0m\u001b[0;34m\u001b[0m\u001b[0m\n\u001b[0m\u001b[1;32m    136\u001b[0m \u001b[0;34m\u001b[0m\u001b[0m\n\u001b[1;32m    137\u001b[0m     \u001b[0;32mdef\u001b[0m \u001b[0mparse\u001b[0m\u001b[0;34m(\u001b[0m\u001b[0mself\u001b[0m\u001b[0;34m)\u001b[0m\u001b[0;34m:\u001b[0m\u001b[0;34m\u001b[0m\u001b[0;34m\u001b[0m\u001b[0m\n",
      "\u001b[0;32m/mnt/c/Users/justi/Nextcloud/mabel/mabel/examples/../mabel/data/internals/expression.py\u001b[0m in \u001b[0;36mparse\u001b[0;34m(self)\u001b[0m\n\u001b[1;32m    136\u001b[0m \u001b[0;34m\u001b[0m\u001b[0m\n\u001b[1;32m    137\u001b[0m     \u001b[0;32mdef\u001b[0m \u001b[0mparse\u001b[0m\u001b[0;34m(\u001b[0m\u001b[0mself\u001b[0m\u001b[0;34m)\u001b[0m\u001b[0;34m:\u001b[0m\u001b[0;34m\u001b[0m\u001b[0;34m\u001b[0m\u001b[0m\n\u001b[0;32m--> 138\u001b[0;31m         \u001b[0mself\u001b[0m\u001b[0;34m.\u001b[0m\u001b[0mroot\u001b[0m \u001b[0;34m=\u001b[0m \u001b[0mself\u001b[0m\u001b[0;34m.\u001b[0m\u001b[0mparse_expression\u001b[0m\u001b[0;34m(\u001b[0m\u001b[0;34m)\u001b[0m\u001b[0;34m\u001b[0m\u001b[0;34m\u001b[0m\u001b[0m\n\u001b[0m\u001b[1;32m    139\u001b[0m \u001b[0;34m\u001b[0m\u001b[0m\n\u001b[1;32m    140\u001b[0m     \u001b[0;32mdef\u001b[0m \u001b[0mparse_expression\u001b[0m\u001b[0;34m(\u001b[0m\u001b[0mself\u001b[0m\u001b[0;34m)\u001b[0m\u001b[0;34m:\u001b[0m\u001b[0;34m\u001b[0m\u001b[0;34m\u001b[0m\u001b[0m\n",
      "\u001b[0;32m/mnt/c/Users/justi/Nextcloud/mabel/mabel/examples/../mabel/data/internals/expression.py\u001b[0m in \u001b[0;36mparse_expression\u001b[0;34m(self)\u001b[0m\n\u001b[1;32m    139\u001b[0m \u001b[0;34m\u001b[0m\u001b[0m\n\u001b[1;32m    140\u001b[0m     \u001b[0;32mdef\u001b[0m \u001b[0mparse_expression\u001b[0m\u001b[0;34m(\u001b[0m\u001b[0mself\u001b[0m\u001b[0;34m)\u001b[0m\u001b[0;34m:\u001b[0m\u001b[0;34m\u001b[0m\u001b[0;34m\u001b[0m\u001b[0m\n\u001b[0;32m--> 141\u001b[0;31m         \u001b[0mandTerm1\u001b[0m \u001b[0;34m=\u001b[0m \u001b[0mself\u001b[0m\u001b[0;34m.\u001b[0m\u001b[0mparse_and_term\u001b[0m\u001b[0;34m(\u001b[0m\u001b[0;34m)\u001b[0m\u001b[0;34m\u001b[0m\u001b[0;34m\u001b[0m\u001b[0m\n\u001b[0m\u001b[1;32m    142\u001b[0m         while (\n\u001b[1;32m    143\u001b[0m             \u001b[0mself\u001b[0m\u001b[0;34m.\u001b[0m\u001b[0mtokenizer\u001b[0m\u001b[0;34m.\u001b[0m\u001b[0mhas_next\u001b[0m\u001b[0;34m(\u001b[0m\u001b[0;34m)\u001b[0m\u001b[0;34m\u001b[0m\u001b[0;34m\u001b[0m\u001b[0m\n",
      "\u001b[0;32m/mnt/c/Users/justi/Nextcloud/mabel/mabel/examples/../mabel/data/internals/expression.py\u001b[0m in \u001b[0;36mparse_and_term\u001b[0;34m(self)\u001b[0m\n\u001b[1;32m    153\u001b[0m \u001b[0;34m\u001b[0m\u001b[0m\n\u001b[1;32m    154\u001b[0m     \u001b[0;32mdef\u001b[0m \u001b[0mparse_and_term\u001b[0m\u001b[0;34m(\u001b[0m\u001b[0mself\u001b[0m\u001b[0;34m)\u001b[0m\u001b[0;34m:\u001b[0m\u001b[0;34m\u001b[0m\u001b[0;34m\u001b[0m\u001b[0m\n\u001b[0;32m--> 155\u001b[0;31m         \u001b[0mcondition1\u001b[0m \u001b[0;34m=\u001b[0m \u001b[0mself\u001b[0m\u001b[0;34m.\u001b[0m\u001b[0mparse_condition\u001b[0m\u001b[0;34m(\u001b[0m\u001b[0;34m)\u001b[0m\u001b[0;34m\u001b[0m\u001b[0;34m\u001b[0m\u001b[0m\n\u001b[0m\u001b[1;32m    156\u001b[0m         while (\n\u001b[1;32m    157\u001b[0m             \u001b[0mself\u001b[0m\u001b[0;34m.\u001b[0m\u001b[0mtokenizer\u001b[0m\u001b[0;34m.\u001b[0m\u001b[0mhas_next\u001b[0m\u001b[0;34m(\u001b[0m\u001b[0;34m)\u001b[0m\u001b[0;34m\u001b[0m\u001b[0;34m\u001b[0m\u001b[0m\n",
      "\u001b[0;32m/mnt/c/Users/justi/Nextcloud/mabel/mabel/examples/../mabel/data/internals/expression.py\u001b[0m in \u001b[0;36mparse_condition\u001b[0;34m(self)\u001b[0m\n\u001b[1;32m    200\u001b[0m                 \u001b[0mcondition\u001b[0m\u001b[0;34m.\u001b[0m\u001b[0mright\u001b[0m \u001b[0;34m=\u001b[0m \u001b[0mterminal2\u001b[0m\u001b[0;34m\u001b[0m\u001b[0;34m\u001b[0m\u001b[0m\n\u001b[1;32m    201\u001b[0m                 \u001b[0;32mreturn\u001b[0m \u001b[0mcondition\u001b[0m\u001b[0;34m\u001b[0m\u001b[0;34m\u001b[0m\u001b[0m\n\u001b[0;32m--> 202\u001b[0;31m             raise InvalidExpression(\n\u001b[0m\u001b[1;32m    203\u001b[0m                 \u001b[0;34mf\"Operator expected, but got `{self.tokenizer.next()}`\"\u001b[0m\u001b[0;34m\u001b[0m\u001b[0;34m\u001b[0m\u001b[0m\n\u001b[1;32m    204\u001b[0m             )\n",
      "\u001b[0;31mInvalidExpression\u001b[0m: Operator expected, but got `(`"
     ]
    }
   ],
   "source": [
    "grouped.filter(\"COUNT(*) > 5\")"
   ]
  },
  {
   "cell_type": "code",
   "execution_count": null,
   "metadata": {},
   "outputs": [],
   "source": []
  }
 ],
 "metadata": {
  "kernelspec": {
   "display_name": "Python 3",
   "language": "python",
   "name": "python3"
  },
  "language_info": {
   "codemirror_mode": {
    "name": "ipython",
    "version": 3
   },
   "file_extension": ".py",
   "mimetype": "text/x-python",
   "name": "python",
   "nbconvert_exporter": "python",
   "pygments_lexer": "ipython3",
   "version": "3.8.5"
  }
 },
 "nbformat": 4,
 "nbformat_minor": 4
}
