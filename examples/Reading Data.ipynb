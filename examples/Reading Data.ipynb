{
 "cells": [
  {
   "cell_type": "code",
   "execution_count": null,
   "metadata": {},
   "outputs": [],
   "source": [
    "pip uninstall mabelbeta -y"
   ]
  },
  {
   "cell_type": "code",
   "execution_count": 10,
   "metadata": {},
   "outputs": [],
   "source": [
    "quit()"
   ]
  },
  {
   "cell_type": "code",
   "execution_count": null,
   "metadata": {},
   "outputs": [],
   "source": [
    "import os\n",
    "import sys\n",
    "\n",
    "sys.path.insert(1, os.path.join(sys.path[0], \"..\"))\n",
    "import mabel\n",
    "mabel.__version__"
   ]
  },
  {
   "cell_type": "code",
   "execution_count": 2,
   "metadata": {},
   "outputs": [],
   "source": [
    "from mabel.data import Reader, STORAGE_CLASS, DictSet\n",
    "from mabel.adapters.disk import DiskReader"
   ]
  },
  {
   "cell_type": "code",
   "execution_count": 3,
   "metadata": {},
   "outputs": [],
   "source": [
    "tweets = Reader(\n",
    "    inner_reader=DiskReader,\n",
    "    #select=\"RANDOM(), NOW(), ADDDAYS(timestamp, 92), float(1) as ts \",\n",
    "    dataset=\"data/tweets\",\n",
    "    raw_path=True,\n",
    "    persistence=STORAGE_CLASS.MEMORY)"
   ]
  },
  {
   "cell_type": "code",
   "execution_count": 4,
   "metadata": {},
   "outputs": [
    {
     "data": {
      "text/plain": [
       "100000"
      ]
     },
     "execution_count": 4,
     "metadata": {},
     "output_type": "execute_result"
    }
   ],
   "source": [
    "tweets.count()"
   ]
  },
  {
   "cell_type": "code",
   "execution_count": 7,
   "metadata": {},
   "outputs": [
    {
     "name": "stdout",
     "output_type": "stream",
     "text": [
      "CPU times: user 569 ms, sys: 0 ns, total: 569 ms\n",
      "Wall time: 567 ms\n"
     ]
    },
    {
     "data": {
      "text/plain": [
       "100000"
      ]
     },
     "execution_count": 7,
     "metadata": {},
     "output_type": "execute_result"
    }
   ],
   "source": [
    "%%time\n",
    "tweets.distinct().count()"
   ]
  },
  {
   "cell_type": "code",
   "execution_count": 8,
   "metadata": {},
   "outputs": [
    {
     "data": {
      "text/plain": [
       "{'tweet_id': 'int',\n",
       " 'text': 'str',\n",
       " 'timestamp': 'str',\n",
       " 'user_id': 'int',\n",
       " 'user_verified': 'bool',\n",
       " 'user_name': 'str',\n",
       " 'hash_tags': 'Array',\n",
       " 'followers': 'int',\n",
       " 'following': 'int',\n",
       " 'tweets_by_user': 'int',\n",
       " 'is_quoting': 'int',\n",
       " 'is_reply_to': 'int',\n",
       " 'is_retweeting': 'int'}"
      ]
     },
     "execution_count": 8,
     "metadata": {},
     "output_type": "execute_result"
    }
   ],
   "source": [
    "tweets.types()"
   ]
  },
  {
   "cell_type": "code",
   "execution_count": 9,
   "metadata": {},
   "outputs": [
    {
     "data": {
      "text/html": [
       "<table class=\"table table-sm\"><thead class=\"thead-light\"><tr><th>hash_tags<th>\n",
       "<th>user_name<th>\n",
       "<th>user_id<th>\n",
       "<th>following<th>\n",
       "<th>tweets_by_user<th>\n",
       "<th>tweet_id<th>\n",
       "<th>is_reply_to<th>\n",
       "<th>is_retweeting<th>\n",
       "<th>timestamp<th>\n",
       "<th>text<th>\n",
       "<th>user_verified<th>\n",
       "<th>followers<th>\n",
       "<th>is_quoting<th>\n",
       "</tr></thead><tbody><tr><td title='<csimdjson.Array object at 0x7f524e199680>' style='max-width:320px;overflow:hidden;text-overflow:ellipsis;white-space:nowrap;'><csimdjson.Array object at 0x7f524e199680><td>\n",
       "<td title='Niran' style='max-width:320px;overflow:hidden;text-overflow:ellipsis;white-space:nowrap;'>Niran<td>\n",
       "<td title='528972105' style='max-width:320px;overflow:hidden;text-overflow:ellipsis;white-space:nowrap;'>528972105<td>\n",
       "<td title='5001' style='max-width:320px;overflow:hidden;text-overflow:ellipsis;white-space:nowrap;'>5001<td>\n",
       "<td title='16325' style='max-width:320px;overflow:hidden;text-overflow:ellipsis;white-space:nowrap;'>16325<td>\n",
       "<td title='1346604539831611392' style='max-width:320px;overflow:hidden;text-overflow:ellipsis;white-space:nowrap;'>1346604539831611392<td>\n",
       "<td title='None' style='max-width:320px;overflow:hidden;text-overflow:ellipsis;white-space:nowrap;'>None<td>\n",
       "<td title='1346603132948676608' style='max-width:320px;overflow:hidden;text-overflow:ellipsis;white-space:nowrap;'>1346603132948676608<td>\n",
       "<td title='2021-01-05T23:48:35.655000+00:00' style='max-width:320px;overflow:hidden;text-overflow:ellipsis;white-space:nowrap;'>2021-01-05T23:48:35.655000+00:00<td>\n",
       "<td title='‘He literally wants to undermine the legitimate results of this election so he can stay out of trouble and not be branded the loser he actually is’ — Mary Trump, a former defense sec, a Georgia election official, and more are slamming Trump for his potentially criminal call https://t.co/JEtBgVvMCu' style='max-width:320px;overflow:hidden;text-overflow:ellipsis;white-space:nowrap;'>‘He literally wants to undermine the legitimate results of this election so he can stay out of trouble and not be branded the loser he actually is’ — Mary Trump, a former defense sec, a Georgia election official, and more are slamming Trump for his potentially criminal call https://t.co/JEtBgVvMCu<td>\n",
       "<td title='False' style='max-width:320px;overflow:hidden;text-overflow:ellipsis;white-space:nowrap;'>False<td>\n",
       "<td title='643' style='max-width:320px;overflow:hidden;text-overflow:ellipsis;white-space:nowrap;'>643<td>\n",
       "<td title='None' style='max-width:320px;overflow:hidden;text-overflow:ellipsis;white-space:nowrap;'>None<td>\n",
       "</tr><tr><td title='<csimdjson.Array object at 0x7f524e199680>' style='max-width:320px;overflow:hidden;text-overflow:ellipsis;white-space:nowrap;'><csimdjson.Array object at 0x7f524e199680><td>\n",
       "<td title='sIn.ti.miento' style='max-width:320px;overflow:hidden;text-overflow:ellipsis;white-space:nowrap;'>sIn.ti.miento<td>\n",
       "<td title='1184694644438904837' style='max-width:320px;overflow:hidden;text-overflow:ellipsis;white-space:nowrap;'>1184694644438904837<td>\n",
       "<td title='74' style='max-width:320px;overflow:hidden;text-overflow:ellipsis;white-space:nowrap;'>74<td>\n",
       "<td title='6932' style='max-width:320px;overflow:hidden;text-overflow:ellipsis;white-space:nowrap;'>6932<td>\n",
       "<td title='1346604539877728257' style='max-width:320px;overflow:hidden;text-overflow:ellipsis;white-space:nowrap;'>1346604539877728257<td>\n",
       "<td title='None' style='max-width:320px;overflow:hidden;text-overflow:ellipsis;white-space:nowrap;'>None<td>\n",
       "<td title='1346225011250638848' style='max-width:320px;overflow:hidden;text-overflow:ellipsis;white-space:nowrap;'>1346225011250638848<td>\n",
       "<td title='2021-01-05T23:48:35.666000+00:00' style='max-width:320px;overflow:hidden;text-overflow:ellipsis;white-space:nowrap;'>2021-01-05T23:48:35.666000+00:00<td>\n",
       "<td title='This man is leading a whole country https://t.co/TqB2EM0AbO' style='max-width:320px;overflow:hidden;text-overflow:ellipsis;white-space:nowrap;'>This man is leading a whole country https://t.co/TqB2EM0AbO<td>\n",
       "<td title='False' style='max-width:320px;overflow:hidden;text-overflow:ellipsis;white-space:nowrap;'>False<td>\n",
       "<td title='29' style='max-width:320px;overflow:hidden;text-overflow:ellipsis;white-space:nowrap;'>29<td>\n",
       "<td title='None' style='max-width:320px;overflow:hidden;text-overflow:ellipsis;white-space:nowrap;'>None<td>\n",
       "</tr><tr><td title='<csimdjson.Array object at 0x7f524e199680>' style='max-width:320px;overflow:hidden;text-overflow:ellipsis;white-space:nowrap;'><csimdjson.Array object at 0x7f524e199680><td>\n",
       "<td title='Jennifer Dixon' style='max-width:320px;overflow:hidden;text-overflow:ellipsis;white-space:nowrap;'>Jennifer Dixon<td>\n",
       "<td title='1286508262385303552' style='max-width:320px;overflow:hidden;text-overflow:ellipsis;white-space:nowrap;'>1286508262385303552<td>\n",
       "<td title='363' style='max-width:320px;overflow:hidden;text-overflow:ellipsis;white-space:nowrap;'>363<td>\n",
       "<td title='4967' style='max-width:320px;overflow:hidden;text-overflow:ellipsis;white-space:nowrap;'>4967<td>\n",
       "<td title='1346604539936346113' style='max-width:320px;overflow:hidden;text-overflow:ellipsis;white-space:nowrap;'>1346604539936346113<td>\n",
       "<td title='None' style='max-width:320px;overflow:hidden;text-overflow:ellipsis;white-space:nowrap;'>None<td>\n",
       "<td title='1346587871688290305' style='max-width:320px;overflow:hidden;text-overflow:ellipsis;white-space:nowrap;'>1346587871688290305<td>\n",
       "<td title='2021-01-05T23:48:35.680000+00:00' style='max-width:320px;overflow:hidden;text-overflow:ellipsis;white-space:nowrap;'>2021-01-05T23:48:35.680000+00:00<td>\n",
       "<td title='My husband&#39;s cousin just passed away 3 days after receiving covid vaccine.  Mind you, he has been fighting cancer for two years. Why would they give him a covid vaccine?' style='max-width:320px;overflow:hidden;text-overflow:ellipsis;white-space:nowrap;'>My husband&#39;s cousin just passed away 3 days after receiving covid vaccine.  Mind you, he has been fighting cancer for two years. Why would they give him a covid vaccine?<td>\n",
       "<td title='False' style='max-width:320px;overflow:hidden;text-overflow:ellipsis;white-space:nowrap;'>False<td>\n",
       "<td title='137' style='max-width:320px;overflow:hidden;text-overflow:ellipsis;white-space:nowrap;'>137<td>\n",
       "<td title='None' style='max-width:320px;overflow:hidden;text-overflow:ellipsis;white-space:nowrap;'>None<td>\n",
       "</tr><tr><td title='<csimdjson.Array object at 0x7f524e199680>' style='max-width:320px;overflow:hidden;text-overflow:ellipsis;white-space:nowrap;'><csimdjson.Array object at 0x7f524e199680><td>\n",
       "<td title='Brandi Nicole Payne' style='max-width:320px;overflow:hidden;text-overflow:ellipsis;white-space:nowrap;'>Brandi Nicole Payne<td>\n",
       "<td title='18663492' style='max-width:320px;overflow:hidden;text-overflow:ellipsis;white-space:nowrap;'>18663492<td>\n",
       "<td title='593' style='max-width:320px;overflow:hidden;text-overflow:ellipsis;white-space:nowrap;'>593<td>\n",
       "<td title='15067' style='max-width:320px;overflow:hidden;text-overflow:ellipsis;white-space:nowrap;'>15067<td>\n",
       "<td title='1346604539705778177' style='max-width:320px;overflow:hidden;text-overflow:ellipsis;white-space:nowrap;'>1346604539705778177<td>\n",
       "<td title='None' style='max-width:320px;overflow:hidden;text-overflow:ellipsis;white-space:nowrap;'>None<td>\n",
       "<td title='None' style='max-width:320px;overflow:hidden;text-overflow:ellipsis;white-space:nowrap;'>None<td>\n",
       "<td title='2021-01-05T23:48:35.625000+00:00' style='max-width:320px;overflow:hidden;text-overflow:ellipsis;white-space:nowrap;'>2021-01-05T23:48:35.625000+00:00<td>\n",
       "<td title='“A cancer treatment center in Pine Bluff that closed earlier this year because of staffing shortages is forgiving over half a million dollars in outstanding debts from nearly 200 patients.”\n",
       "\n",
       "What an incredible gift. May God bless him tenfold. 🤍\n",
       "\n",
       "https://t.co/BMgOs1KTeg' style='max-width:320px;overflow:hidden;text-overflow:ellipsis;white-space:nowrap;'>“A cancer treatment center in Pine Bluff that closed earlier this year because of staffing shortages is forgiving over half a million dollars in outstanding debts from nearly 200 patients.”\n",
       "\n",
       "What an incredible gift. May God bless him tenfold. 🤍\n",
       "\n",
       "https://t.co/BMgOs1KTeg<td>\n",
       "<td title='False' style='max-width:320px;overflow:hidden;text-overflow:ellipsis;white-space:nowrap;'>False<td>\n",
       "<td title='2372' style='max-width:320px;overflow:hidden;text-overflow:ellipsis;white-space:nowrap;'>2372<td>\n",
       "<td title='None' style='max-width:320px;overflow:hidden;text-overflow:ellipsis;white-space:nowrap;'>None<td>\n",
       "</tr><tr><td title='<csimdjson.Array object at 0x7f524e1996d0>' style='max-width:320px;overflow:hidden;text-overflow:ellipsis;white-space:nowrap;'><csimdjson.Array object at 0x7f524e1996d0><td>\n",
       "<td title='@coco3311' style='max-width:320px;overflow:hidden;text-overflow:ellipsis;white-space:nowrap;'>@coco3311<td>\n",
       "<td title='1223654174321266690' style='max-width:320px;overflow:hidden;text-overflow:ellipsis;white-space:nowrap;'>1223654174321266690<td>\n",
       "<td title='279' style='max-width:320px;overflow:hidden;text-overflow:ellipsis;white-space:nowrap;'>279<td>\n",
       "<td title='5372' style='max-width:320px;overflow:hidden;text-overflow:ellipsis;white-space:nowrap;'>5372<td>\n",
       "<td title='1346604539886116864' style='max-width:320px;overflow:hidden;text-overflow:ellipsis;white-space:nowrap;'>1346604539886116864<td>\n",
       "<td title='None' style='max-width:320px;overflow:hidden;text-overflow:ellipsis;white-space:nowrap;'>None<td>\n",
       "<td title='1346603610839207936' style='max-width:320px;overflow:hidden;text-overflow:ellipsis;white-space:nowrap;'>1346603610839207936<td>\n",
       "<td title='2021-01-05T23:48:35.668000+00:00' style='max-width:320px;overflow:hidden;text-overflow:ellipsis;white-space:nowrap;'>2021-01-05T23:48:35.668000+00:00<td>\n",
       "<td title='NEW VIDEO: #JoshHawleyIsALiar \n",
       "\n",
       "Watch this short video and expose this liar who used his wife and child to create a fake &quot;victim&quot; story. Just disgusting. https://t.co/9NzBaLBsT3' style='max-width:320px;overflow:hidden;text-overflow:ellipsis;white-space:nowrap;'>NEW VIDEO: #JoshHawleyIsALiar \n",
       "\n",
       "Watch this short video and expose this liar who used his wife and child to create a fake &quot;victim&quot; story. Just disgusting. https://t.co/9NzBaLBsT3<td>\n",
       "<td title='False' style='max-width:320px;overflow:hidden;text-overflow:ellipsis;white-space:nowrap;'>False<td>\n",
       "<td title='50' style='max-width:320px;overflow:hidden;text-overflow:ellipsis;white-space:nowrap;'>50<td>\n",
       "<td title='None' style='max-width:320px;overflow:hidden;text-overflow:ellipsis;white-space:nowrap;'>None<td>\n",
       "</tr><tr><td title='<csimdjson.Array object at 0x7f524e1996d0>' style='max-width:320px;overflow:hidden;text-overflow:ellipsis;white-space:nowrap;'><csimdjson.Array object at 0x7f524e1996d0><td>\n",
       "<td title='Marxx' style='max-width:320px;overflow:hidden;text-overflow:ellipsis;white-space:nowrap;'>Marxx<td>\n",
       "<td title='875456234979241984' style='max-width:320px;overflow:hidden;text-overflow:ellipsis;white-space:nowrap;'>875456234979241984<td>\n",
       "<td title='355' style='max-width:320px;overflow:hidden;text-overflow:ellipsis;white-space:nowrap;'>355<td>\n",
       "<td title='775' style='max-width:320px;overflow:hidden;text-overflow:ellipsis;white-space:nowrap;'>775<td>\n",
       "<td title='1346604539911278594' style='max-width:320px;overflow:hidden;text-overflow:ellipsis;white-space:nowrap;'>1346604539911278594<td>\n",
       "<td title='None' style='max-width:320px;overflow:hidden;text-overflow:ellipsis;white-space:nowrap;'>None<td>\n",
       "<td title='1346518085549891586' style='max-width:320px;overflow:hidden;text-overflow:ellipsis;white-space:nowrap;'>1346518085549891586<td>\n",
       "<td title='2021-01-05T23:48:35.674000+00:00' style='max-width:320px;overflow:hidden;text-overflow:ellipsis;white-space:nowrap;'>2021-01-05T23:48:35.674000+00:00<td>\n",
       "<td title='Jiren. dial it back a bit https://t.co/NByHtaELCG' style='max-width:320px;overflow:hidden;text-overflow:ellipsis;white-space:nowrap;'>Jiren. dial it back a bit https://t.co/NByHtaELCG<td>\n",
       "<td title='False' style='max-width:320px;overflow:hidden;text-overflow:ellipsis;white-space:nowrap;'>False<td>\n",
       "<td title='55' style='max-width:320px;overflow:hidden;text-overflow:ellipsis;white-space:nowrap;'>55<td>\n",
       "<td title='None' style='max-width:320px;overflow:hidden;text-overflow:ellipsis;white-space:nowrap;'>None<td>\n",
       "</tr><tr><td title='<csimdjson.Array object at 0x7f524e1996d0>' style='max-width:320px;overflow:hidden;text-overflow:ellipsis;white-space:nowrap;'><csimdjson.Array object at 0x7f524e1996d0><td>\n",
       "<td title='Rammy 🌱🌿' style='max-width:320px;overflow:hidden;text-overflow:ellipsis;white-space:nowrap;'>Rammy 🌱🌿<td>\n",
       "<td title='938586876092575744' style='max-width:320px;overflow:hidden;text-overflow:ellipsis;white-space:nowrap;'>938586876092575744<td>\n",
       "<td title='228' style='max-width:320px;overflow:hidden;text-overflow:ellipsis;white-space:nowrap;'>228<td>\n",
       "<td title='17425' style='max-width:320px;overflow:hidden;text-overflow:ellipsis;white-space:nowrap;'>17425<td>\n",
       "<td title='1346604539886108673' style='max-width:320px;overflow:hidden;text-overflow:ellipsis;white-space:nowrap;'>1346604539886108673<td>\n",
       "<td title='1346604455152807939' style='max-width:320px;overflow:hidden;text-overflow:ellipsis;white-space:nowrap;'>1346604455152807939<td>\n",
       "<td title='None' style='max-width:320px;overflow:hidden;text-overflow:ellipsis;white-space:nowrap;'>None<td>\n",
       "<td title='2021-01-05T23:48:35.668000+00:00' style='max-width:320px;overflow:hidden;text-overflow:ellipsis;white-space:nowrap;'>2021-01-05T23:48:35.668000+00:00<td>\n",
       "<td title='@ify0_ no I did not youre slandering my name' style='max-width:320px;overflow:hidden;text-overflow:ellipsis;white-space:nowrap;'>@ify0_ no I did not youre slandering my name<td>\n",
       "<td title='False' style='max-width:320px;overflow:hidden;text-overflow:ellipsis;white-space:nowrap;'>False<td>\n",
       "<td title='596' style='max-width:320px;overflow:hidden;text-overflow:ellipsis;white-space:nowrap;'>596<td>\n",
       "<td title='None' style='max-width:320px;overflow:hidden;text-overflow:ellipsis;white-space:nowrap;'>None<td>\n",
       "</tr><tr><td title='<csimdjson.Array object at 0x7f524e1996d0>' style='max-width:320px;overflow:hidden;text-overflow:ellipsis;white-space:nowrap;'><csimdjson.Array object at 0x7f524e1996d0><td>\n",
       "<td title='Robin O. Knight FBPE' style='max-width:320px;overflow:hidden;text-overflow:ellipsis;white-space:nowrap;'>Robin O. Knight FBPE<td>\n",
       "<td title='4832862820' style='max-width:320px;overflow:hidden;text-overflow:ellipsis;white-space:nowrap;'>4832862820<td>\n",
       "<td title='2018' style='max-width:320px;overflow:hidden;text-overflow:ellipsis;white-space:nowrap;'>2018<td>\n",
       "<td title='43315' style='max-width:320px;overflow:hidden;text-overflow:ellipsis;white-space:nowrap;'>43315<td>\n",
       "<td title='1346604539923853313' style='max-width:320px;overflow:hidden;text-overflow:ellipsis;white-space:nowrap;'>1346604539923853313<td>\n",
       "<td title='None' style='max-width:320px;overflow:hidden;text-overflow:ellipsis;white-space:nowrap;'>None<td>\n",
       "<td title='1346519328703844354' style='max-width:320px;overflow:hidden;text-overflow:ellipsis;white-space:nowrap;'>1346519328703844354<td>\n",
       "<td title='2021-01-05T23:48:35.677000+00:00' style='max-width:320px;overflow:hidden;text-overflow:ellipsis;white-space:nowrap;'>2021-01-05T23:48:35.677000+00:00<td>\n",
       "<td title='Wouldn’t it be nice if second rate hacks, attention seeking Twitter accounts etc who weren’t virologists, scientists, immunologists etc...had the humility and good grace to step back and just shut the fuck up.\n",
       "\n",
       "This is not a game, it’s deadly serious now.' style='max-width:320px;overflow:hidden;text-overflow:ellipsis;white-space:nowrap;'>Wouldn’t it be nice if second rate hacks, attention seeking Twitter accounts etc who weren’t virologists, scientists, immunologists etc...had the humility and good grace to step back and just shut the fuck up.\n",
       "\n",
       "This is not a game, it’s deadly serious now.<td>\n",
       "<td title='False' style='max-width:320px;overflow:hidden;text-overflow:ellipsis;white-space:nowrap;'>False<td>\n",
       "<td title='1341' style='max-width:320px;overflow:hidden;text-overflow:ellipsis;white-space:nowrap;'>1341<td>\n",
       "<td title='None' style='max-width:320px;overflow:hidden;text-overflow:ellipsis;white-space:nowrap;'>None<td>\n",
       "</tr><tr><td title='<csimdjson.Array object at 0x7f524e199680>' style='max-width:320px;overflow:hidden;text-overflow:ellipsis;white-space:nowrap;'><csimdjson.Array object at 0x7f524e199680><td>\n",
       "<td title='Laura J 🎃' style='max-width:320px;overflow:hidden;text-overflow:ellipsis;white-space:nowrap;'>Laura J 🎃<td>\n",
       "<td title='238455300' style='max-width:320px;overflow:hidden;text-overflow:ellipsis;white-space:nowrap;'>238455300<td>\n",
       "<td title='919' style='max-width:320px;overflow:hidden;text-overflow:ellipsis;white-space:nowrap;'>919<td>\n",
       "<td title='147692' style='max-width:320px;overflow:hidden;text-overflow:ellipsis;white-space:nowrap;'>147692<td>\n",
       "<td title='1346604539911221248' style='max-width:320px;overflow:hidden;text-overflow:ellipsis;white-space:nowrap;'>1346604539911221248<td>\n",
       "<td title='None' style='max-width:320px;overflow:hidden;text-overflow:ellipsis;white-space:nowrap;'>None<td>\n",
       "<td title='1346603394568433666' style='max-width:320px;overflow:hidden;text-overflow:ellipsis;white-space:nowrap;'>1346603394568433666<td>\n",
       "<td title='2021-01-05T23:48:35.674000+00:00' style='max-width:320px;overflow:hidden;text-overflow:ellipsis;white-space:nowrap;'>2021-01-05T23:48:35.674000+00:00<td>\n",
       "<td title='I just left the White House.\n",
       "\n",
       "Spirits are high!\n",
       "\n",
       "President @realDonaldTrump hasn’t stopped fighting for us, so I won’t stop fighting for him!\n",
       "\n",
       "I’ll be leading the charge for Texas tomorrow in OBJECTING to the results of this RIGGED election!\n",
       "\n",
       "God bless you all 🇺🇸 https://t.co/18OINkv0ee' style='max-width:320px;overflow:hidden;text-overflow:ellipsis;white-space:nowrap;'>I just left the White House.\n",
       "\n",
       "Spirits are high!\n",
       "\n",
       "President @realDonaldTrump hasn’t stopped fighting for us, so I won’t stop fighting for him!\n",
       "\n",
       "I’ll be leading the charge for Texas tomorrow in OBJECTING to the results of this RIGGED election!\n",
       "\n",
       "God bless you all 🇺🇸 https://t.co/18OINkv0ee<td>\n",
       "<td title='False' style='max-width:320px;overflow:hidden;text-overflow:ellipsis;white-space:nowrap;'>False<td>\n",
       "<td title='1460' style='max-width:320px;overflow:hidden;text-overflow:ellipsis;white-space:nowrap;'>1460<td>\n",
       "<td title='None' style='max-width:320px;overflow:hidden;text-overflow:ellipsis;white-space:nowrap;'>None<td>\n",
       "</tr><tr><td title='<csimdjson.Array object at 0x7f524e199680>' style='max-width:320px;overflow:hidden;text-overflow:ellipsis;white-space:nowrap;'><csimdjson.Array object at 0x7f524e199680><td>\n",
       "<td title='Unbothered Vexation' style='max-width:320px;overflow:hidden;text-overflow:ellipsis;white-space:nowrap;'>Unbothered Vexation<td>\n",
       "<td title='925436710070218752' style='max-width:320px;overflow:hidden;text-overflow:ellipsis;white-space:nowrap;'>925436710070218752<td>\n",
       "<td title='74' style='max-width:320px;overflow:hidden;text-overflow:ellipsis;white-space:nowrap;'>74<td>\n",
       "<td title='15272' style='max-width:320px;overflow:hidden;text-overflow:ellipsis;white-space:nowrap;'>15272<td>\n",
       "<td title='1346604539881938945' style='max-width:320px;overflow:hidden;text-overflow:ellipsis;white-space:nowrap;'>1346604539881938945<td>\n",
       "<td title='None' style='max-width:320px;overflow:hidden;text-overflow:ellipsis;white-space:nowrap;'>None<td>\n",
       "<td title='1346329538356133889' style='max-width:320px;overflow:hidden;text-overflow:ellipsis;white-space:nowrap;'>1346329538356133889<td>\n",
       "<td title='2021-01-05T23:48:35.667000+00:00' style='max-width:320px;overflow:hidden;text-overflow:ellipsis;white-space:nowrap;'>2021-01-05T23:48:35.667000+00:00<td>\n",
       "<td title='If your partner is homophobic, you&#39;re homophobic.' style='max-width:320px;overflow:hidden;text-overflow:ellipsis;white-space:nowrap;'>If your partner is homophobic, you&#39;re homophobic.<td>\n",
       "<td title='False' style='max-width:320px;overflow:hidden;text-overflow:ellipsis;white-space:nowrap;'>False<td>\n",
       "<td title='96' style='max-width:320px;overflow:hidden;text-overflow:ellipsis;white-space:nowrap;'>96<td>\n",
       "<td title='1345904884785135616' style='max-width:320px;overflow:hidden;text-overflow:ellipsis;white-space:nowrap;'>1345904884785135616<td>\n",
       "</tr></tbody></table>\n",
       "<p>top 10 rows x 13 columns</p>\n",
       "NOTE: the displayed records may have been spent"
      ],
      "text/plain": [
       "<IPython.core.display.HTML object>"
      ]
     },
     "metadata": {},
     "output_type": "display_data"
    },
    {
     "data": {
      "text/plain": []
     },
     "execution_count": 9,
     "metadata": {},
     "output_type": "execute_result"
    }
   ],
   "source": [
    "tweets"
   ]
  },
  {
   "cell_type": "code",
   "execution_count": 13,
   "metadata": {},
   "outputs": [
    {
     "name": "stdout",
     "output_type": "stream",
     "text": [
      "*\n"
     ]
    },
    {
     "data": {
      "text/plain": [
       "83606"
      ]
     },
     "execution_count": 13,
     "metadata": {},
     "output_type": "execute_result"
    }
   ],
   "source": [
    "grouped = DictSet(tweets.group_by(\"user_name\").count(), storage_class=STORAGE_CLASS.MEMORY)\n",
    "grouped.count()"
   ]
  },
  {
   "cell_type": "code",
   "execution_count": 14,
   "metadata": {},
   "outputs": [
    {
     "name": "stdout",
     "output_type": "stream",
     "text": [
      "*\n"
     ]
    },
    {
     "data": {
      "text/plain": [
       "83606"
      ]
     },
     "execution_count": 14,
     "metadata": {},
     "output_type": "execute_result"
    }
   ],
   "source": [
    "len(list(tweets.group_by(\"user_name\").count()))"
   ]
  },
  {
   "cell_type": "code",
   "execution_count": 15,
   "metadata": {},
   "outputs": [
    {
     "data": {
      "text/html": [
       "<table class=\"table table-sm\"><thead class=\"thead-light\"><tr><th>COUNT(*)<th>\n",
       "<th>user_name<th>\n",
       "</tr></thead><tbody><tr><td title='19' style='max-width:320px;overflow:hidden;text-overflow:ellipsis;white-space:nowrap;'>19<td>\n",
       "<td title='Laura' style='max-width:320px;overflow:hidden;text-overflow:ellipsis;white-space:nowrap;'>Laura<td>\n",
       "</tr><tr><td title='9' style='max-width:320px;overflow:hidden;text-overflow:ellipsis;white-space:nowrap;'>9<td>\n",
       "<td title='JC' style='max-width:320px;overflow:hidden;text-overflow:ellipsis;white-space:nowrap;'>JC<td>\n",
       "</tr><tr><td title='6' style='max-width:320px;overflow:hidden;text-overflow:ellipsis;white-space:nowrap;'>6<td>\n",
       "<td title='RJ' style='max-width:320px;overflow:hidden;text-overflow:ellipsis;white-space:nowrap;'>RJ<td>\n",
       "</tr><tr><td title='9' style='max-width:320px;overflow:hidden;text-overflow:ellipsis;white-space:nowrap;'>9<td>\n",
       "<td title='Stephanie' style='max-width:320px;overflow:hidden;text-overflow:ellipsis;white-space:nowrap;'>Stephanie<td>\n",
       "</tr><tr><td title='11' style='max-width:320px;overflow:hidden;text-overflow:ellipsis;white-space:nowrap;'>11<td>\n",
       "<td title='laura' style='max-width:320px;overflow:hidden;text-overflow:ellipsis;white-space:nowrap;'>laura<td>\n",
       "</tr><tr><td title='9' style='max-width:320px;overflow:hidden;text-overflow:ellipsis;white-space:nowrap;'>9<td>\n",
       "<td title='ky' style='max-width:320px;overflow:hidden;text-overflow:ellipsis;white-space:nowrap;'>ky<td>\n",
       "</tr><tr><td title='6' style='max-width:320px;overflow:hidden;text-overflow:ellipsis;white-space:nowrap;'>6<td>\n",
       "<td title='Chad' style='max-width:320px;overflow:hidden;text-overflow:ellipsis;white-space:nowrap;'>Chad<td>\n",
       "</tr><tr><td title='12' style='max-width:320px;overflow:hidden;text-overflow:ellipsis;white-space:nowrap;'>12<td>\n",
       "<td title='Alexis' style='max-width:320px;overflow:hidden;text-overflow:ellipsis;white-space:nowrap;'>Alexis<td>\n",
       "</tr><tr><td title='7' style='max-width:320px;overflow:hidden;text-overflow:ellipsis;white-space:nowrap;'>7<td>\n",
       "<td title='alyssa' style='max-width:320px;overflow:hidden;text-overflow:ellipsis;white-space:nowrap;'>alyssa<td>\n",
       "</tr><tr><td title='6' style='max-width:320px;overflow:hidden;text-overflow:ellipsis;white-space:nowrap;'>6<td>\n",
       "<td title='ghost' style='max-width:320px;overflow:hidden;text-overflow:ellipsis;white-space:nowrap;'>ghost<td>\n",
       "</tr></tbody></table>\n",
       "<p>top 10 rows x 2 columns</p>\n",
       "NOTE: the displayed records may have been spent"
      ],
      "text/plain": [
       "<IPython.core.display.HTML object>"
      ]
     },
     "metadata": {},
     "output_type": "display_data"
    },
    {
     "data": {
      "text/plain": []
     },
     "execution_count": 15,
     "metadata": {},
     "output_type": "execute_result"
    }
   ],
   "source": [
    "grouped.filter(lambda r: r[\"COUNT(*)\"] > 5)"
   ]
  },
  {
   "cell_type": "code",
   "execution_count": 16,
   "metadata": {},
   "outputs": [
    {
     "data": {
      "text/html": [
       "<table class=\"table table-sm\"><thead class=\"thead-light\"><tr><th>COUNT(*)<th>\n",
       "<th>user_name<th>\n",
       "</tr></thead><tbody><tr><td title='19' style='max-width:320px;overflow:hidden;text-overflow:ellipsis;white-space:nowrap;'>19<td>\n",
       "<td title='Laura' style='max-width:320px;overflow:hidden;text-overflow:ellipsis;white-space:nowrap;'>Laura<td>\n",
       "</tr><tr><td title='9' style='max-width:320px;overflow:hidden;text-overflow:ellipsis;white-space:nowrap;'>9<td>\n",
       "<td title='JC' style='max-width:320px;overflow:hidden;text-overflow:ellipsis;white-space:nowrap;'>JC<td>\n",
       "</tr><tr><td title='6' style='max-width:320px;overflow:hidden;text-overflow:ellipsis;white-space:nowrap;'>6<td>\n",
       "<td title='RJ' style='max-width:320px;overflow:hidden;text-overflow:ellipsis;white-space:nowrap;'>RJ<td>\n",
       "</tr><tr><td title='9' style='max-width:320px;overflow:hidden;text-overflow:ellipsis;white-space:nowrap;'>9<td>\n",
       "<td title='Stephanie' style='max-width:320px;overflow:hidden;text-overflow:ellipsis;white-space:nowrap;'>Stephanie<td>\n",
       "</tr><tr><td title='11' style='max-width:320px;overflow:hidden;text-overflow:ellipsis;white-space:nowrap;'>11<td>\n",
       "<td title='laura' style='max-width:320px;overflow:hidden;text-overflow:ellipsis;white-space:nowrap;'>laura<td>\n",
       "</tr><tr><td title='9' style='max-width:320px;overflow:hidden;text-overflow:ellipsis;white-space:nowrap;'>9<td>\n",
       "<td title='ky' style='max-width:320px;overflow:hidden;text-overflow:ellipsis;white-space:nowrap;'>ky<td>\n",
       "</tr><tr><td title='6' style='max-width:320px;overflow:hidden;text-overflow:ellipsis;white-space:nowrap;'>6<td>\n",
       "<td title='Chad' style='max-width:320px;overflow:hidden;text-overflow:ellipsis;white-space:nowrap;'>Chad<td>\n",
       "</tr><tr><td title='12' style='max-width:320px;overflow:hidden;text-overflow:ellipsis;white-space:nowrap;'>12<td>\n",
       "<td title='Alexis' style='max-width:320px;overflow:hidden;text-overflow:ellipsis;white-space:nowrap;'>Alexis<td>\n",
       "</tr><tr><td title='7' style='max-width:320px;overflow:hidden;text-overflow:ellipsis;white-space:nowrap;'>7<td>\n",
       "<td title='alyssa' style='max-width:320px;overflow:hidden;text-overflow:ellipsis;white-space:nowrap;'>alyssa<td>\n",
       "</tr><tr><td title='6' style='max-width:320px;overflow:hidden;text-overflow:ellipsis;white-space:nowrap;'>6<td>\n",
       "<td title='ghost' style='max-width:320px;overflow:hidden;text-overflow:ellipsis;white-space:nowrap;'>ghost<td>\n",
       "</tr></tbody></table>\n",
       "<p>top 10 rows x 2 columns</p>\n",
       "NOTE: the displayed records may have been spent"
      ],
      "text/plain": [
       "<IPython.core.display.HTML object>"
      ]
     },
     "metadata": {},
     "output_type": "display_data"
    },
    {
     "data": {
      "text/plain": []
     },
     "execution_count": 16,
     "metadata": {},
     "output_type": "execute_result"
    }
   ],
   "source": [
    "grouped.filter((\"COUNT(*)\", \">\", 5))"
   ]
  },
  {
   "cell_type": "code",
   "execution_count": 17,
   "metadata": {},
   "outputs": [
    {
     "ename": "InvalidExpression",
     "evalue": "Operator expected, but got `(`",
     "output_type": "error",
     "traceback": [
      "\u001b[0;31m---------------------------------------------------------------------------\u001b[0m",
      "\u001b[0;31mInvalidExpression\u001b[0m                         Traceback (most recent call last)",
      "\u001b[0;32m<ipython-input-17-fb874632c8f8>\u001b[0m in \u001b[0;36m<module>\u001b[0;34m\u001b[0m\n\u001b[0;32m----> 1\u001b[0;31m \u001b[0mgrouped\u001b[0m\u001b[0;34m.\u001b[0m\u001b[0mfilter\u001b[0m\u001b[0;34m(\u001b[0m\u001b[0;34m\"COUNT(*) > 5\"\u001b[0m\u001b[0;34m)\u001b[0m\u001b[0;34m\u001b[0m\u001b[0;34m\u001b[0m\u001b[0m\n\u001b[0m",
      "\u001b[0;32m/mnt/c/Users/justi/Nextcloud/mabel/mabel/examples/../mabel/data/internals/dictset.py\u001b[0m in \u001b[0;36mfilter\u001b[0;34m(self, filters)\u001b[0m\n\u001b[1;32m    438\u001b[0m                         \u001b[0;32myield\u001b[0m \u001b[0mrecord\u001b[0m\u001b[0;34m\u001b[0m\u001b[0;34m\u001b[0m\u001b[0m\n\u001b[1;32m    439\u001b[0m \u001b[0;34m\u001b[0m\u001b[0m\n\u001b[0;32m--> 440\u001b[0;31m             \u001b[0mq\u001b[0m \u001b[0;34m=\u001b[0m \u001b[0mExpression\u001b[0m\u001b[0;34m(\u001b[0m\u001b[0mfilters\u001b[0m\u001b[0;34m)\u001b[0m\u001b[0;34m\u001b[0m\u001b[0;34m\u001b[0m\u001b[0m\n\u001b[0m\u001b[1;32m    441\u001b[0m             return DictSet(\n\u001b[1;32m    442\u001b[0m                 \u001b[0minner_filter_where\u001b[0m\u001b[0;34m(\u001b[0m\u001b[0miter\u001b[0m\u001b[0;34m(\u001b[0m\u001b[0mself\u001b[0m\u001b[0;34m.\u001b[0m\u001b[0m_iterator\u001b[0m\u001b[0;34m)\u001b[0m\u001b[0;34m)\u001b[0m\u001b[0;34m,\u001b[0m\u001b[0;34m\u001b[0m\u001b[0;34m\u001b[0m\u001b[0m\n",
      "\u001b[0;32m/mnt/c/Users/justi/Nextcloud/mabel/mabel/examples/../mabel/data/internals/expression.py\u001b[0m in \u001b[0;36m__init__\u001b[0;34m(self, exp)\u001b[0m\n\u001b[1;32m    155\u001b[0m         \u001b[0mself\u001b[0m\u001b[0;34m.\u001b[0m\u001b[0mtokenizer\u001b[0m \u001b[0;34m=\u001b[0m \u001b[0mExpressionTokenizer\u001b[0m\u001b[0;34m(\u001b[0m\u001b[0mexp\u001b[0m\u001b[0;34m)\u001b[0m\u001b[0;34m\u001b[0m\u001b[0;34m\u001b[0m\u001b[0m\n\u001b[1;32m    156\u001b[0m         \u001b[0mself\u001b[0m\u001b[0;34m.\u001b[0m\u001b[0mtokenizer\u001b[0m\u001b[0;34m.\u001b[0m\u001b[0mtokenize\u001b[0m\u001b[0;34m(\u001b[0m\u001b[0;34m)\u001b[0m\u001b[0;34m\u001b[0m\u001b[0;34m\u001b[0m\u001b[0m\n\u001b[0;32m--> 157\u001b[0;31m         \u001b[0mself\u001b[0m\u001b[0;34m.\u001b[0m\u001b[0mparse\u001b[0m\u001b[0;34m(\u001b[0m\u001b[0;34m)\u001b[0m\u001b[0;34m\u001b[0m\u001b[0;34m\u001b[0m\u001b[0m\n\u001b[0m\u001b[1;32m    158\u001b[0m \u001b[0;34m\u001b[0m\u001b[0m\n\u001b[1;32m    159\u001b[0m     \u001b[0;32mdef\u001b[0m \u001b[0mparse\u001b[0m\u001b[0;34m(\u001b[0m\u001b[0mself\u001b[0m\u001b[0;34m)\u001b[0m\u001b[0;34m:\u001b[0m\u001b[0;34m\u001b[0m\u001b[0;34m\u001b[0m\u001b[0m\n",
      "\u001b[0;32m/mnt/c/Users/justi/Nextcloud/mabel/mabel/examples/../mabel/data/internals/expression.py\u001b[0m in \u001b[0;36mparse\u001b[0;34m(self)\u001b[0m\n\u001b[1;32m    158\u001b[0m \u001b[0;34m\u001b[0m\u001b[0m\n\u001b[1;32m    159\u001b[0m     \u001b[0;32mdef\u001b[0m \u001b[0mparse\u001b[0m\u001b[0;34m(\u001b[0m\u001b[0mself\u001b[0m\u001b[0;34m)\u001b[0m\u001b[0;34m:\u001b[0m\u001b[0;34m\u001b[0m\u001b[0;34m\u001b[0m\u001b[0m\n\u001b[0;32m--> 160\u001b[0;31m         \u001b[0mself\u001b[0m\u001b[0;34m.\u001b[0m\u001b[0mroot\u001b[0m \u001b[0;34m=\u001b[0m \u001b[0mself\u001b[0m\u001b[0;34m.\u001b[0m\u001b[0mparse_expression\u001b[0m\u001b[0;34m(\u001b[0m\u001b[0;34m)\u001b[0m\u001b[0;34m\u001b[0m\u001b[0;34m\u001b[0m\u001b[0m\n\u001b[0m\u001b[1;32m    161\u001b[0m \u001b[0;34m\u001b[0m\u001b[0m\n\u001b[1;32m    162\u001b[0m     \u001b[0;32mdef\u001b[0m \u001b[0mparse_expression\u001b[0m\u001b[0;34m(\u001b[0m\u001b[0mself\u001b[0m\u001b[0;34m)\u001b[0m\u001b[0;34m:\u001b[0m\u001b[0;34m\u001b[0m\u001b[0;34m\u001b[0m\u001b[0m\n",
      "\u001b[0;32m/mnt/c/Users/justi/Nextcloud/mabel/mabel/examples/../mabel/data/internals/expression.py\u001b[0m in \u001b[0;36mparse_expression\u001b[0;34m(self)\u001b[0m\n\u001b[1;32m    161\u001b[0m \u001b[0;34m\u001b[0m\u001b[0m\n\u001b[1;32m    162\u001b[0m     \u001b[0;32mdef\u001b[0m \u001b[0mparse_expression\u001b[0m\u001b[0;34m(\u001b[0m\u001b[0mself\u001b[0m\u001b[0;34m)\u001b[0m\u001b[0;34m:\u001b[0m\u001b[0;34m\u001b[0m\u001b[0;34m\u001b[0m\u001b[0m\n\u001b[0;32m--> 163\u001b[0;31m         \u001b[0mandTerm1\u001b[0m \u001b[0;34m=\u001b[0m \u001b[0mself\u001b[0m\u001b[0;34m.\u001b[0m\u001b[0mparse_and_term\u001b[0m\u001b[0;34m(\u001b[0m\u001b[0;34m)\u001b[0m\u001b[0;34m\u001b[0m\u001b[0;34m\u001b[0m\u001b[0m\n\u001b[0m\u001b[1;32m    164\u001b[0m         while (\n\u001b[1;32m    165\u001b[0m             \u001b[0mself\u001b[0m\u001b[0;34m.\u001b[0m\u001b[0mtokenizer\u001b[0m\u001b[0;34m.\u001b[0m\u001b[0mhas_next\u001b[0m\u001b[0;34m(\u001b[0m\u001b[0;34m)\u001b[0m\u001b[0;34m\u001b[0m\u001b[0;34m\u001b[0m\u001b[0m\n",
      "\u001b[0;32m/mnt/c/Users/justi/Nextcloud/mabel/mabel/examples/../mabel/data/internals/expression.py\u001b[0m in \u001b[0;36mparse_and_term\u001b[0;34m(self)\u001b[0m\n\u001b[1;32m    175\u001b[0m \u001b[0;34m\u001b[0m\u001b[0m\n\u001b[1;32m    176\u001b[0m     \u001b[0;32mdef\u001b[0m \u001b[0mparse_and_term\u001b[0m\u001b[0;34m(\u001b[0m\u001b[0mself\u001b[0m\u001b[0;34m)\u001b[0m\u001b[0;34m:\u001b[0m\u001b[0;34m\u001b[0m\u001b[0;34m\u001b[0m\u001b[0m\n\u001b[0;32m--> 177\u001b[0;31m         \u001b[0mcondition1\u001b[0m \u001b[0;34m=\u001b[0m \u001b[0mself\u001b[0m\u001b[0;34m.\u001b[0m\u001b[0mparse_condition\u001b[0m\u001b[0;34m(\u001b[0m\u001b[0;34m)\u001b[0m\u001b[0;34m\u001b[0m\u001b[0;34m\u001b[0m\u001b[0m\n\u001b[0m\u001b[1;32m    178\u001b[0m         while (\n\u001b[1;32m    179\u001b[0m             \u001b[0mself\u001b[0m\u001b[0;34m.\u001b[0m\u001b[0mtokenizer\u001b[0m\u001b[0;34m.\u001b[0m\u001b[0mhas_next\u001b[0m\u001b[0;34m(\u001b[0m\u001b[0;34m)\u001b[0m\u001b[0;34m\u001b[0m\u001b[0;34m\u001b[0m\u001b[0m\n",
      "\u001b[0;32m/mnt/c/Users/justi/Nextcloud/mabel/mabel/examples/../mabel/data/internals/expression.py\u001b[0m in \u001b[0;36mparse_condition\u001b[0;34m(self)\u001b[0m\n\u001b[1;32m    222\u001b[0m                 \u001b[0mcondition\u001b[0m\u001b[0;34m.\u001b[0m\u001b[0mright\u001b[0m \u001b[0;34m=\u001b[0m \u001b[0mterminal2\u001b[0m\u001b[0;34m\u001b[0m\u001b[0;34m\u001b[0m\u001b[0m\n\u001b[1;32m    223\u001b[0m                 \u001b[0;32mreturn\u001b[0m \u001b[0mcondition\u001b[0m\u001b[0;34m\u001b[0m\u001b[0;34m\u001b[0m\u001b[0m\n\u001b[0;32m--> 224\u001b[0;31m             raise InvalidExpression(\n\u001b[0m\u001b[1;32m    225\u001b[0m                 \u001b[0;34mf\"Operator expected, but got `{self.tokenizer.next()}`\"\u001b[0m\u001b[0;34m\u001b[0m\u001b[0;34m\u001b[0m\u001b[0m\n\u001b[1;32m    226\u001b[0m             )\n",
      "\u001b[0;31mInvalidExpression\u001b[0m: Operator expected, but got `(`"
     ]
    }
   ],
   "source": [
    "grouped.filter(\"COUNT(*) > 5\")"
   ]
  },
  {
   "cell_type": "code",
   "execution_count": 13,
   "metadata": {},
   "outputs": [
    {
     "data": {
      "text/plain": [
       "csimdjson.Object"
      ]
     },
     "execution_count": 13,
     "metadata": {},
     "output_type": "execute_result"
    }
   ],
   "source": [
    "type(tweets.first())"
   ]
  },
  {
   "cell_type": "code",
   "execution_count": null,
   "metadata": {},
   "outputs": [],
   "source": []
  }
 ],
 "metadata": {
  "kernelspec": {
   "display_name": "Python 3",
   "language": "python",
   "name": "python3"
  },
  "language_info": {
   "codemirror_mode": {
    "name": "ipython",
    "version": 3
   },
   "file_extension": ".py",
   "mimetype": "text/x-python",
   "name": "python",
   "nbconvert_exporter": "python",
   "pygments_lexer": "ipython3",
   "version": "3.8.5"
  }
 },
 "nbformat": 4,
 "nbformat_minor": 4
}
