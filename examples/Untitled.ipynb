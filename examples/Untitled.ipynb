{
 "cells": [
  {
   "cell_type": "code",
   "execution_count": 1,
   "metadata": {},
   "outputs": [],
   "source": [
    "balance = 88430\n",
    "performing = 7\n",
    "underperforming = 3\n",
    "adjustment = 0.75\n",
    "colleagues = performing + underperforming"
   ]
  },
  {
   "cell_type": "code",
   "execution_count": 2,
   "metadata": {},
   "outputs": [
    {
     "data": {
      "text/plain": [
       "8843.0"
      ]
     },
     "execution_count": 2,
     "metadata": {},
     "output_type": "execute_result"
    }
   ],
   "source": [
    "balance / colleagues"
   ]
  },
  {
   "cell_type": "raw",
   "metadata": {},
   "source": [
    "balance = (performing * allocation) + (underperforming * allocation * adjustment)"
   ]
  },
  {
   "cell_type": "raw",
   "metadata": {},
   "source": [
    "1 = ((performing * allocation) / balance) + ((underperforming * allocation * adjustment) / balance)"
   ]
  },
  {
   "cell_type": "raw",
   "metadata": {},
   "source": [
    "1 / allocation = (performing / balance) + ((underperforming * adjustment) / balance) "
   ]
  },
  {
   "cell_type": "code",
   "execution_count": 3,
   "metadata": {},
   "outputs": [],
   "source": [
    "trial = 9560\n",
    "allocation = (performing * trial) + (underperforming * adjustment * trial)"
   ]
  },
  {
   "cell_type": "code",
   "execution_count": 4,
   "metadata": {},
   "outputs": [
    {
     "data": {
      "text/plain": [
       "88430.0"
      ]
     },
     "execution_count": 4,
     "metadata": {},
     "output_type": "execute_result"
    }
   ],
   "source": [
    "allocation"
   ]
  },
  {
   "cell_type": "code",
   "execution_count": 5,
   "metadata": {},
   "outputs": [
    {
     "data": {
      "text/plain": [
       "7170.0"
      ]
     },
     "execution_count": 5,
     "metadata": {},
     "output_type": "execute_result"
    }
   ],
   "source": [
    "adjustment * trial"
   ]
  },
  {
   "cell_type": "code",
   "execution_count": 6,
   "metadata": {},
   "outputs": [
    {
     "ename": "SyntaxError",
     "evalue": "invalid syntax (2229619831.py, line 1)",
     "output_type": "error",
     "traceback": [
      "\u001b[0;36m  File \u001b[0;32m\"/tmp/ipykernel_30763/2229619831.py\"\u001b[0;36m, line \u001b[0;32m1\u001b[0m\n\u001b[0;31m    Data Analyst\u001b[0m\n\u001b[0m         ^\u001b[0m\n\u001b[0;31mSyntaxError\u001b[0m\u001b[0;31m:\u001b[0m invalid syntax\n"
     ]
    }
   ],
   "source": [
    "Data Analyst\n",
    "\n",
    "- Data visualization using D3 or similar\n",
    "- Statistical experience\n",
    "- Research and development of large data sets analysis\n",
    "\n",
    "- Python experience helpful\n",
    "- Cloud and Serverless Computing\n",
    "- Risk and Security Management helpful\n",
    "- DevOps helpful\n",
    "- Communication and presentation"
   ]
  },
  {
   "cell_type": "code",
   "execution_count": 15,
   "metadata": {},
   "outputs": [
    {
     "name": "stdout",
     "output_type": "stream",
     "text": [
      "78.2 ns ± 1.72 ns per loop (mean ± std. dev. of 7 runs, 10000000 loops each)\n",
      "86.4 ns ± 4.78 ns per loop (mean ± std. dev. of 7 runs, 10000000 loops each)\n",
      "94.6 ns ± 6.31 ns per loop (mean ± std. dev. of 7 runs, 10000000 loops each)\n",
      "113 ns ± 3.15 ns per loop (mean ± std. dev. of 7 runs, 10000000 loops each)\n",
      "121 ns ± 6.86 ns per loop (mean ± std. dev. of 7 runs, 10000000 loops each)\n",
      "120 ns ± 3.66 ns per loop (mean ± std. dev. of 7 runs, 10000000 loops each)\n"
     ]
    }
   ],
   "source": [
    "%timeit float(\"500\")\n",
    "\n",
    "%timeit int(\"500\")\n",
    "\n",
    "%timeit int(\"500\", 10)\n",
    "\n",
    "from decimal import Decimal\n",
    "import fastnumbers\n",
    "\n",
    "%timeit Decimal(\"500\")\n",
    "\n",
    "%timeit fastnumbers.fast_int(\"500\")\n",
    "\n",
    "%timeit fastnumbers.fast_float(\"500\")"
   ]
  },
  {
   "cell_type": "code",
   "execution_count": 19,
   "metadata": {},
   "outputs": [
    {
     "data": {
      "text/plain": [
       "{'select': '`mapped report`, data', 'disctinct': False, 'from': 'table', 'where': None, 'group by': None, 'having': None, 'order by': None, 'descending': False, 'limit': None}"
      ]
     },
     "execution_count": 19,
     "metadata": {},
     "output_type": "execute_result"
    }
   ],
   "source": [
    "from mabel.data.readers.internals.sql_reader import SqlParser\n",
    "\n",
    "SqlParser(\"select `mapped report`, data from table\")"
   ]
  },
  {
   "cell_type": "code",
   "execution_count": 17,
   "metadata": {},
   "outputs": [
    {
     "name": "stdout",
     "output_type": "stream",
     "text": [
      "Collecting mabelbeta\n",
      "  Downloading mabelbeta-0.5.0a88-cp38-cp38-manylinux_2_17_x86_64.manylinux2014_x86_64.whl (2.2 MB)\n",
      "     |████████████████████████████████| 2.2 MB 3.5 MB/s            \n",
      "\u001b[?25hRequirement already satisfied: bitarray in /home/justin/anaconda3/lib/python3.8/site-packages (from mabelbeta) (2.3.4)\n",
      "Requirement already satisfied: pysimdjson in /home/justin/anaconda3/lib/python3.8/site-packages (from mabelbeta) (4.0.3)\n",
      "Requirement already satisfied: lz4 in /home/justin/anaconda3/lib/python3.8/site-packages (from mabelbeta) (3.1.10)\n",
      "Requirement already satisfied: pydantic in /home/justin/anaconda3/lib/python3.8/site-packages (from mabelbeta) (1.9.0)\n",
      "Requirement already satisfied: siphashc in /home/justin/anaconda3/lib/python3.8/site-packages (from mabelbeta) (2.1)\n",
      "Requirement already satisfied: zstandard in /home/justin/anaconda3/lib/python3.8/site-packages (from mabelbeta) (0.16.0)\n",
      "Requirement already satisfied: cython in /home/justin/anaconda3/lib/python3.8/site-packages (from mabelbeta) (0.29.26)\n",
      "Requirement already satisfied: orjson in /home/justin/anaconda3/lib/python3.8/site-packages (from mabelbeta) (3.6.5)\n",
      "Requirement already satisfied: typing-extensions>=3.7.4.3 in /home/justin/anaconda3/lib/python3.8/site-packages (from pydantic->mabelbeta) (4.0.1)\n",
      "Installing collected packages: mabelbeta\n",
      "Successfully installed mabelbeta-0.5.0a88\n"
     ]
    }
   ],
   "source": [
    "!pip install --upgrade mabelbeta\n"
   ]
  },
  {
   "cell_type": "code",
   "execution_count": 9,
   "metadata": {},
   "outputs": [],
   "source": [
    "from IPython.display import HTML as html_print\n",
    "import pandas as pd\n",
    "from matplotlib import pyplot as plt\n",
    "import numpy as np\n",
    "\n",
    "pd.set_option('display.max_colwidth', 180)\n",
    "LARGE_FONT = 12\n",
    "plt.rc('font', size=LARGE_FONT)\n",
    "\n",
    "markersize = 5\n",
    "linewidth = 5\n",
    "\n",
    "time_series_period = 8"
   ]
  },
  {
   "cell_type": "code",
   "execution_count": 42,
   "metadata": {},
   "outputs": [
    {
     "data": {
      "text/plain": [
       "([<matplotlib.axis.XTick at 0x7fb93f1e86d0>,\n",
       "  <matplotlib.axis.XTick at 0x7fb93f1e8670>,\n",
       "  <matplotlib.axis.XTick at 0x7fb93f195af0>,\n",
       "  <matplotlib.axis.XTick at 0x7fb93f19f4c0>,\n",
       "  <matplotlib.axis.XTick at 0x7fb93f19fc10>],\n",
       " [Text(0, 0, ''),\n",
       "  Text(0, 0, ''),\n",
       "  Text(0, 0, ''),\n",
       "  Text(0, 0, ''),\n",
       "  Text(0, 0, '')])"
      ]
     },
     "execution_count": 42,
     "metadata": {},
     "output_type": "execute_result"
    },
    {
     "data": {
      "image/png": "[encoded data removed]",
      "text/plain": [
       "<Figure size 1152x576 with 1 Axes>"
      ]
     },
     "metadata": {
      "needs_background": "light"
     },
     "output_type": "display_data"
    }
   ],
   "source": [
    "plt.figure(figsize=(16, 8))\n",
    "import datetime\n",
    "\n",
    "time_series = [datetime.date(2021,9,21),datetime.date(2021,10,21),datetime.date(2021,11,21),datetime.date(2021,12,21),datetime.date(2022,1,21)]\n",
    "findings = [640,544,351,90,72]\n",
    "\n",
    "ax = plt.subplot(111)\n",
    "ax.spines['top'].set_visible(False)\n",
    "ax.spines['right'].set_visible(False)\n",
    "#ax.spines['left'].set_visible(False)\n",
    "#ax.spines['bottom'].set_visible(False)\n",
    "ax.tick_params(axis='x', colors='#666666', length=0)\n",
    "ax.tick_params(axis='y', colors='#666666', length=0)\n",
    "#ax.get_yaxis().set_ticks([])\n",
    "\n",
    "plt.plot(time_series, findings, marker='.', markersize=1, linewidth=linewidth)\n",
    "#plt.fill_between(week_series, group_data, 0, color=cf.group_color(), alpha=0.2)\n",
    "#ax.axhline(y=0, color='#666666', linestyle='--')\n",
    "\n",
    "                \n",
    "plt.figtext(0.12, 0.99, 'PrintNightmare Instances', fontsize=30, ha='left', fontname=\"JetBrains Mono\")\n",
    "plt.figtext(0.12, 0.92, \"QID = 91785\", fontsize=20, ha='left', fontname=\"Jetbrains Mono\", fontweight='light', color=\"#888888\")\n",
    "\n",
    "plt.ylim(0, 700)\n",
    "plt.xticks(time_series)\n"
   ]
  },
  {
   "cell_type": "code",
   "execution_count": null,
   "metadata": {},
   "outputs": [],
   "source": []
  }
 ],
 "metadata": {
  "kernelspec": {
   "display_name": "Python 3 (ipykernel)",
   "language": "python",
   "name": "python3"
  },
  "language_info": {
   "codemirror_mode": {
    "name": "ipython",
    "version": 3
   },
   "file_extension": ".py",
   "mimetype": "text/x-python",
   "name": "python",
   "nbconvert_exporter": "python",
   "pygments_lexer": "ipython3",
   "version": "3.8.5"
  }
 },
 "nbformat": 4,
 "nbformat_minor": 4
}
