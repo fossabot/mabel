{
 "cells": [
  {
   "cell_type": "code",
   "execution_count": 37,
   "metadata": {},
   "outputs": [],
   "source": [
    "balance = 88430\n",
    "performing = 7\n",
    "underperforming = 3\n",
    "adjustment = 0.75\n",
    "colleagues = performing + underperforming"
   ]
  },
  {
   "cell_type": "code",
   "execution_count": 38,
   "metadata": {},
   "outputs": [
    {
     "data": {
      "text/plain": [
       "8843.0"
      ]
     },
     "execution_count": 38,
     "metadata": {},
     "output_type": "execute_result"
    }
   ],
   "source": [
    "balance / colleagues"
   ]
  },
  {
   "cell_type": "raw",
   "metadata": {},
   "source": [
    "balance = (performing * allocation) + (underperforming * allocation * adjustment)"
   ]
  },
  {
   "cell_type": "raw",
   "metadata": {},
   "source": [
    "1 = ((performing * allocation) / balance) + ((underperforming * allocation * adjustment) / balance)"
   ]
  },
  {
   "cell_type": "raw",
   "metadata": {},
   "source": [
    "1 / allocation = (performing / balance) + ((underperforming * adjustment) / balance) "
   ]
  },
  {
   "cell_type": "code",
   "execution_count": 39,
   "metadata": {},
   "outputs": [],
   "source": [
    "trial = 9560\n",
    "allocation = (performing * trial) + (underperforming * adjustment * trial)"
   ]
  },
  {
   "cell_type": "code",
   "execution_count": 40,
   "metadata": {},
   "outputs": [
    {
     "data": {
      "text/plain": [
       "88430.0"
      ]
     },
     "execution_count": 40,
     "metadata": {},
     "output_type": "execute_result"
    }
   ],
   "source": [
    "allocation"
   ]
  },
  {
   "cell_type": "code",
   "execution_count": 41,
   "metadata": {},
   "outputs": [
    {
     "data": {
      "text/plain": [
       "7170.0"
      ]
     },
     "execution_count": 41,
     "metadata": {},
     "output_type": "execute_result"
    }
   ],
   "source": [
    "adjustment * trial"
   ]
  },
  {
   "cell_type": "code",
   "execution_count": null,
   "metadata": {},
   "outputs": [],
   "source": [
    "Data Analyst\n",
    "\n",
    "- Data visualization using D3 or similar\n",
    "- Statistical experience\n",
    "- Research and development of large data sets analysis\n",
    "\n",
    "- Python experience helpful\n",
    "- Cloud and Serverless Computing\n",
    "- Risk and Security Management helpful\n",
    "- DevOps helpful\n",
    "- Communication and presentation"
   ]
  },
  {
   "cell_type": "code",
   "execution_count": 15,
   "metadata": {},
   "outputs": [
    {
     "name": "stdout",
     "output_type": "stream",
     "text": [
      "78.2 ns ± 1.72 ns per loop (mean ± std. dev. of 7 runs, 10000000 loops each)\n",
      "86.4 ns ± 4.78 ns per loop (mean ± std. dev. of 7 runs, 10000000 loops each)\n",
      "94.6 ns ± 6.31 ns per loop (mean ± std. dev. of 7 runs, 10000000 loops each)\n",
      "113 ns ± 3.15 ns per loop (mean ± std. dev. of 7 runs, 10000000 loops each)\n",
      "121 ns ± 6.86 ns per loop (mean ± std. dev. of 7 runs, 10000000 loops each)\n",
      "120 ns ± 3.66 ns per loop (mean ± std. dev. of 7 runs, 10000000 loops each)\n"
     ]
    }
   ],
   "source": [
    "%timeit float(\"500\")\n",
    "\n",
    "%timeit int(\"500\")\n",
    "\n",
    "%timeit int(\"500\", 10)\n",
    "\n",
    "from decimal import Decimal\n",
    "import fastnumbers\n",
    "\n",
    "%timeit Decimal(\"500\")\n",
    "\n",
    "%timeit fastnumbers.fast_int(\"500\")\n",
    "\n",
    "%timeit fastnumbers.fast_float(\"500\")"
   ]
  },
  {
   "cell_type": "code",
   "execution_count": 19,
   "metadata": {},
   "outputs": [
    {
     "data": {
      "text/plain": [
       "{'select': '`mapped report`, data', 'disctinct': False, 'from': 'table', 'where': None, 'group by': None, 'having': None, 'order by': None, 'descending': False, 'limit': None}"
      ]
     },
     "execution_count": 19,
     "metadata": {},
     "output_type": "execute_result"
    }
   ],
   "source": [
    "from mabel.data.readers.internals.sql_reader import SqlParser\n",
    "\n",
    "SqlParser(\"select `mapped report`, data from table\")"
   ]
  },
  {
   "cell_type": "code",
   "execution_count": 17,
   "metadata": {},
   "outputs": [
    {
     "name": "stdout",
     "output_type": "stream",
     "text": [
      "Collecting mabelbeta\n",
      "  Downloading mabelbeta-0.5.0a88-cp38-cp38-manylinux_2_17_x86_64.manylinux2014_x86_64.whl (2.2 MB)\n",
      "     |████████████████████████████████| 2.2 MB 3.5 MB/s            \n",
      "\u001b[?25hRequirement already satisfied: bitarray in /home/justin/anaconda3/lib/python3.8/site-packages (from mabelbeta) (2.3.4)\n",
      "Requirement already satisfied: pysimdjson in /home/justin/anaconda3/lib/python3.8/site-packages (from mabelbeta) (4.0.3)\n",
      "Requirement already satisfied: lz4 in /home/justin/anaconda3/lib/python3.8/site-packages (from mabelbeta) (3.1.10)\n",
      "Requirement already satisfied: pydantic in /home/justin/anaconda3/lib/python3.8/site-packages (from mabelbeta) (1.9.0)\n",
      "Requirement already satisfied: siphashc in /home/justin/anaconda3/lib/python3.8/site-packages (from mabelbeta) (2.1)\n",
      "Requirement already satisfied: zstandard in /home/justin/anaconda3/lib/python3.8/site-packages (from mabelbeta) (0.16.0)\n",
      "Requirement already satisfied: cython in /home/justin/anaconda3/lib/python3.8/site-packages (from mabelbeta) (0.29.26)\n",
      "Requirement already satisfied: orjson in /home/justin/anaconda3/lib/python3.8/site-packages (from mabelbeta) (3.6.5)\n",
      "Requirement already satisfied: typing-extensions>=3.7.4.3 in /home/justin/anaconda3/lib/python3.8/site-packages (from pydantic->mabelbeta) (4.0.1)\n",
      "Installing collected packages: mabelbeta\n",
      "Successfully installed mabelbeta-0.5.0a88\n"
     ]
    }
   ],
   "source": [
    "!pip install --upgrade mabelbeta\n"
   ]
  },
  {
   "cell_type": "code",
   "execution_count": null,
   "metadata": {},
   "outputs": [],
   "source": []
  }
 ],
 "metadata": {
  "kernelspec": {
   "display_name": "Python 3 (ipykernel)",
   "language": "python",
   "name": "python3"
  },
  "language_info": {
   "codemirror_mode": {
    "name": "ipython",
    "version": 3
   },
   "file_extension": ".py",
   "mimetype": "text/x-python",
   "name": "python",
   "nbconvert_exporter": "python",
   "pygments_lexer": "ipython3",
   "version": "3.8.5"
  }
 },
 "nbformat": 4,
 "nbformat_minor": 4
}
